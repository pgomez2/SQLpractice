{
 "cells": [
  {
   "cell_type": "markdown",
   "metadata": {},
   "source": [
    "Sailors Excersice "
   ]
  },
  {
   "cell_type": "markdown",
   "metadata": {},
   "source": [
    "Create the database"
   ]
  },
  {
   "cell_type": "code",
   "execution_count": 1,
   "metadata": {},
   "outputs": [],
   "source": [
    "import sqlite3 \n",
    "import pandas as pd"
   ]
  },
  {
   "cell_type": "code",
   "execution_count": 33,
   "metadata": {},
   "outputs": [
    {
     "data": {
      "text/plain": [
       "<function Connection.close()>"
      ]
     },
     "execution_count": 33,
     "metadata": {},
     "output_type": "execute_result"
    }
   ],
   "source": [
    "conn = sqlite3.connect('sailing_club.db')\n",
    "cursor = conn.cursor()\n",
    "cursor.execute('''DROP TABLE SAILORS''')\n",
    "cursor.execute('''DROP TABLE BOATS''')\n",
    "cursor.execute('''DROP TABLE RESERVES''')\n",
    "cursor.execute('''DROP TABLE CAPTAINS''')\n",
    "conn.commit()\n",
    "conn.close"
   ]
  },
  {
   "cell_type": "code",
   "execution_count": 34,
   "metadata": {},
   "outputs": [
    {
     "data": {
      "text/plain": [
       "<function Connection.close()>"
      ]
     },
     "execution_count": 34,
     "metadata": {},
     "output_type": "execute_result"
    }
   ],
   "source": [
    "conn = sqlite3.connect('sailing_club.db')\n",
    "cursor = conn.cursor()\n",
    "\n",
    "\n",
    "cursor.execute('''\n",
    "create table SAILORS(\n",
    "    Sname       varchar(15),\n",
    "    SID         varchar(5) PRIMARY KEY,\n",
    "    Rating      int(4),\n",
    "    Age         int(4)\n",
    ")\n",
    "''')\n",
    "\n",
    "cursor.execute('''\n",
    "create table CAPTAINS(\n",
    "    Sname       varchar(15),\n",
    "    SID         varchar(5) PRIMARY KEY,\n",
    "    Rating      int(4),\n",
    "    Age         int(4)\n",
    ")\n",
    "''')\n",
    "\n",
    "\n",
    "cursor.execute('''\n",
    "create table BOATS(\n",
    "    Bname       varchar(15),\n",
    "    BID         varchar(5) PRIMARY KEY,\n",
    "    Fee         int(4),\n",
    "    Location    varchar(15)\n",
    ")\n",
    "''')\n",
    "\n",
    "cursor.execute('''\n",
    "create table RESERVES(\n",
    "    SID         varchar(5),\n",
    "    BID         varchar(5),\n",
    "    Day         varchar(20),\n",
    "    Deposit     float(7),\n",
    "    FOREIGN KEY (SID) REFERENCES SAILORS(SID),\n",
    "    FOREIGN KEY (BID) REFERENCES BOATS(BID)\n",
    ")\n",
    "''')\n",
    "\n",
    "sailors_data = [\n",
    "    ('Marx', 23, 8, 52),\n",
    "    ('Martin', 25, 9, 51),\n",
    "    ('Adams', 27, 8, 36),\n",
    "    ('Carrey', 33, 10, 22)\n",
    "]\n",
    "\n",
    "cursor.executemany('''\n",
    "INSERT INTO Sailors (Sname, SID, Rating, Age) VALUES (?, ?, ?, ?)\n",
    "''', sailors_data)\n",
    "\n",
    "boats_data = [\n",
    "    ('Wayfarer', 109, 120, 'Hout Bay'),\n",
    "    ('SeaPride', 108, 500, 'Fish Hoek'),\n",
    "    ('Yuppie', 101, 400, 'Hout Bay'),\n",
    "    ('Joy', 104, 200, 'Hout Bay')\n",
    "]\n",
    "\n",
    "cursor.executemany('''\n",
    "INSERT INTO Boats (Bname, BID, Fee, Location) VALUES (?, ?, ?, ?)\n",
    "''', boats_data)\n",
    "\n",
    "reserves_data = [\n",
    "    (23, 109, '01/08/2014', 120),\n",
    "    (23, 108, '08/08/2014', 120),\n",
    "    (25, 101, '08/08/2014', 0),\n",
    "    (27, 101, '09/08/2014', 100),\n",
    "    (27, 109, '04/09/2014', 120),\n",
    "    (33, 109, '04/09/2014', 0),\n",
    "    (33, 104, '11/09/2014', 0)\n",
    "]\n",
    "\n",
    "cursor.executemany('''\n",
    "INSERT INTO Reserves (SID, BID, Day, Deposit) VALUES (?, ?, ?, ?)\n",
    "''', reserves_data)\n",
    "\n",
    "conn.commit()\n",
    "conn.close"
   ]
  },
  {
   "cell_type": "markdown",
   "metadata": {},
   "source": [
    "1. Get everything in the Sailors table"
   ]
  },
  {
   "cell_type": "code",
   "execution_count": 3,
   "metadata": {},
   "outputs": [
    {
     "name": "stdout",
     "output_type": "stream",
     "text": [
      "    Sname SID  Rating  Age\n",
      "0    Marx  23       8   52\n",
      "1  Martin  25       9   51\n",
      "2   Adams  27       8   36\n",
      "3  Carrey  33      10   22\n"
     ]
    }
   ],
   "source": [
    "conn = sqlite3.connect('sailing_club.db')\n",
    "cursor = conn.cursor()\n",
    "\n",
    "query = '''\n",
    "SELECT *\n",
    "FROM SAILORS\n",
    "'''\n",
    "result_df = pd.read_sql_query(query, conn)\n",
    "\n",
    "\n",
    "conn.close()\n",
    "\n",
    "print(result_df.to_string(index=True))"
   ]
  },
  {
   "cell_type": "markdown",
   "metadata": {},
   "source": [
    "Get sailor ID, rank & age of all sailors, ordered from highest to lowest rank. Rank is 10 rimes rating"
   ]
  },
  {
   "cell_type": "code",
   "execution_count": 4,
   "metadata": {},
   "outputs": [
    {
     "name": "stdout",
     "output_type": "stream",
     "text": [
      "  SID  Rank  Age\n",
      "0  23    80   52\n",
      "1  27    80   36\n",
      "2  25    90   51\n",
      "3  33   100   22\n"
     ]
    }
   ],
   "source": [
    "conn = sqlite3.connect('sailing_club.db')\n",
    "cursor = conn.cursor()\n",
    "\n",
    "query = '''\n",
    "SELECT SID, 10*Rating AS Rank, Age\n",
    "FROM SAILORS\n",
    "ORDER BY Rank\n",
    "'''\n",
    "result_df = pd.read_sql_query(query, conn)\n",
    "\n",
    "\n",
    "conn.close()\n",
    "\n",
    "print(result_df.to_string(index=True))"
   ]
  },
  {
   "cell_type": "markdown",
   "metadata": {},
   "source": [
    "3. Get alphabetical list of sailors with rating less than 10"
   ]
  },
  {
   "cell_type": "code",
   "execution_count": 5,
   "metadata": {},
   "outputs": [
    {
     "name": "stdout",
     "output_type": "stream",
     "text": [
      "    Sname  Rating\n",
      "0   Adams       8\n",
      "1  Martin       9\n",
      "2    Marx       8\n"
     ]
    }
   ],
   "source": [
    "conn = sqlite3.connect('sailing_club.db')\n",
    "cursor = conn.cursor()\n",
    "\n",
    "query = '''\n",
    "SELECT Sname, Rating\n",
    "FROM SAILORS \n",
    "WHERE Rating < 10 \n",
    "ORDER BY Sname \n",
    "'''\n",
    "result_df = pd.read_sql_query(query, conn)\n",
    "\n",
    "\n",
    "conn.close()\n",
    "\n",
    "print(result_df.to_string(index=True))"
   ]
  },
  {
   "cell_type": "markdown",
   "metadata": {},
   "source": [
    "4. Find how much deposit money there is in total and how many tuples are in the reserves table"
   ]
  },
  {
   "cell_type": "code",
   "execution_count": 6,
   "metadata": {},
   "outputs": [
    {
     "name": "stdout",
     "output_type": "stream",
     "text": [
      "   TotalTuples  TotalMoney\n",
      "0            7       220.0\n"
     ]
    }
   ],
   "source": [
    "conn = sqlite3.connect('sailing_club.db')\n",
    "cursor = conn.cursor()\n",
    "\n",
    "query = '''\n",
    "SELECT COUNT(Deposit) AS TotalTuples, SUM(Deposit) AS TotalMoney \n",
    "FROM RESERVES \n",
    " '''\n",
    "result_df = pd.read_sql_query(query, conn)\n",
    "\n",
    "\n",
    "conn.close()\n",
    "\n",
    "print(result_df.to_string(index=True))"
   ]
  },
  {
   "cell_type": "markdown",
   "metadata": {},
   "source": [
    "5. Get all info on boats in Fishoek but I'm not sure how you spell Fishoek. "
   ]
  },
  {
   "cell_type": "code",
   "execution_count": 7,
   "metadata": {},
   "outputs": [
    {
     "name": "stdout",
     "output_type": "stream",
     "text": [
      "      Bname  BID  Fee   Location\n",
      "0  SeaPride  108  500  Fish Hoek\n"
     ]
    }
   ],
   "source": [
    "conn = sqlite3.connect('sailing_club.db')\n",
    "cursor = conn.cursor()\n",
    "\n",
    "query = '''\n",
    "SELECT *\n",
    "FROM BOATS \n",
    "WHERE LOCATION LIKE \"_IS%K\"\n",
    "'''\n",
    "result_df = pd.read_sql_query(query, conn)\n",
    "\n",
    "\n",
    "conn.close()\n",
    "\n",
    "print(result_df.to_string(index=True))"
   ]
  },
  {
   "cell_type": "markdown",
   "metadata": {},
   "source": [
    "6. In what Locations are boats kept? "
   ]
  },
  {
   "cell_type": "code",
   "execution_count": 10,
   "metadata": {},
   "outputs": [
    {
     "name": "stdout",
     "output_type": "stream",
     "text": [
      "    Location\n",
      "0   Hout Bay\n",
      "1  Fish Hoek\n"
     ]
    }
   ],
   "source": [
    "conn = sqlite3.connect('sailing_club.db')\n",
    "cursor = conn.cursor()\n",
    "\n",
    "query = '''\n",
    "SELECT DISTINCT(Location) \n",
    "FROM BOATS \n",
    "'''\n",
    "result_df = pd.read_sql_query(query, conn)\n",
    "\n",
    "\n",
    "conn.close()\n",
    "\n",
    "print(result_df.to_string(index=True))"
   ]
  },
  {
   "cell_type": "markdown",
   "metadata": {},
   "source": [
    "7. Get the names of all Boats tht have a fee value recorded in the database"
   ]
  },
  {
   "cell_type": "code",
   "execution_count": 3,
   "metadata": {},
   "outputs": [
    {
     "name": "stdout",
     "output_type": "stream",
     "text": [
      "      Bname\n",
      "0  Wayfarer\n",
      "1  SeaPride\n",
      "2    Yuppie\n",
      "3       Joy\n"
     ]
    }
   ],
   "source": [
    "conn = sqlite3.connect('sailing_club.db')\n",
    "cursor = conn.cursor()\n",
    "\n",
    "query = '''\n",
    "SELECT DISTINCT(Bname)\n",
    "FROM BOATS \n",
    "JOIN RESERVES ON RESERVES.BID = BOATS.BID   \n",
    "'''\n",
    "result_df = pd.read_sql_query(query, conn)\n",
    "\n",
    "\n",
    "conn.close()\n",
    "\n",
    "print(result_df.to_string(index=True))"
   ]
  },
  {
   "cell_type": "markdown",
   "metadata": {},
   "source": [
    "8. Get ID of all boats that have not been reserved "
   ]
  },
  {
   "cell_type": "code",
   "execution_count": 4,
   "metadata": {},
   "outputs": [
    {
     "name": "stdout",
     "output_type": "stream",
     "text": [
      "Empty DataFrame\n",
      "Columns: [Bname]\n",
      "Index: []\n"
     ]
    }
   ],
   "source": [
    "conn = sqlite3.connect('sailing_club.db')\n",
    "cursor = conn.cursor()\n",
    "\n",
    "query = '''\n",
    "SELECT DISTINCT(Bname)\n",
    "FROM BOATS  \n",
    "WHERE BID NOT IN (SELECT DISTINCT(BID) FROM RESERVES)\n",
    "\n",
    "'''\n",
    "result_df = pd.read_sql_query(query, conn)\n",
    "\n",
    "\n",
    "conn.close()\n",
    "\n",
    "print(result_df.to_string(index=True))"
   ]
  },
  {
   "cell_type": "markdown",
   "metadata": {},
   "source": [
    "9. Get all reservation info, including all details on the boats being reserved."
   ]
  },
  {
   "cell_type": "code",
   "execution_count": 7,
   "metadata": {},
   "outputs": [
    {
     "name": "stdout",
     "output_type": "stream",
     "text": [
      "  SID  BID         Day  Deposit     Bname  BID  Fee   Location\n",
      "0  23  109  01/08/2014    120.0  Wayfarer  109  120   Hout Bay\n",
      "1  23  108  08/08/2014      0.0  SeaPride  108  500  Fish Hoek\n",
      "2  25  101  08/08/2014      0.0    Yuppie  101  400   Hout Bay\n",
      "3  27  101  09/08/2014    100.0    Yuppie  101  400   Hout Bay\n",
      "4  27  109  04/09/2014      0.0  Wayfarer  109  120   Hout Bay\n",
      "5  33  109  04/09/2014      0.0  Wayfarer  109  120   Hout Bay\n",
      "6  33  104  11/09/2014      0.0       Joy  104  200   Hout Bay\n"
     ]
    }
   ],
   "source": [
    "conn = sqlite3.connect('sailing_club.db')\n",
    "cursor = conn.cursor()\n",
    "\n",
    "query = '''\n",
    "SELECT *\n",
    "FROM RESERVES \n",
    "JOIN BOATS ON BOATS.BID = RESERVES.BID\n",
    "'''\n",
    "result_df = pd.read_sql_query(query, conn)\n",
    "\n",
    "\n",
    "conn.close()\n",
    "\n",
    "print(result_df.to_string(index=True))"
   ]
  },
  {
   "cell_type": "markdown",
   "metadata": {},
   "source": [
    "10. For all reservation, get the name of the sailor, along with the day and name of the boat booked."
   ]
  },
  {
   "cell_type": "code",
   "execution_count": 3,
   "metadata": {},
   "outputs": [
    {
     "name": "stdout",
     "output_type": "stream",
     "text": [
      "  SID  BID         Day  Deposit     Bname   Sname\n",
      "0  23  109  01/08/2014    120.0  Wayfarer    Marx\n",
      "1  23  108  08/08/2014      0.0  SeaPride    Marx\n",
      "2  25  101  08/08/2014      0.0    Yuppie  Martin\n",
      "3  27  101  09/08/2014    100.0    Yuppie   Adams\n",
      "4  27  109  04/09/2014      0.0  Wayfarer   Adams\n",
      "5  33  109  04/09/2014      0.0  Wayfarer  Carrey\n",
      "6  33  104  11/09/2014      0.0       Joy  Carrey\n"
     ]
    }
   ],
   "source": [
    "conn = sqlite3.connect('sailing_club.db')\n",
    "cursor = conn.cursor()\n",
    "\n",
    "query = '''\n",
    "SELECT RESERVES.SID, RESERVES.BID, RESERVES.Day, RESERVES.Deposit, BOATS.Bname, SAILORS.Sname\n",
    "FROM RESERVES \n",
    "JOIN BOATS ON RESERVES.BID = BOATS.BID \n",
    "JOIN SAILORS ON RESERVES.SID = SAILORS.SID \n",
    "'''\n",
    "result_df = pd.read_sql_query(query, conn)\n",
    "\n",
    "\n",
    "conn.close()\n",
    "\n",
    "print(result_df.to_string(index=True))"
   ]
  },
  {
   "cell_type": "markdown",
   "metadata": {},
   "source": [
    "11. Get the average deposit paid for each boat."
   ]
  },
  {
   "cell_type": "code",
   "execution_count": 11,
   "metadata": {},
   "outputs": [
    {
     "name": "stdout",
     "output_type": "stream",
     "text": [
      "      Bname  BID  Average_Deposit\n",
      "0    Yuppie  101             50.0\n",
      "1       Joy  104              0.0\n",
      "2  SeaPride  108              0.0\n",
      "3  Wayfarer  109             40.0\n"
     ]
    }
   ],
   "source": [
    "conn = sqlite3.connect('sailing_club.db')\n",
    "cursor = conn.cursor()\n",
    "\n",
    "query = '''\n",
    "SELECT BOATS.Bname,RESERVES.BID , AVG(Deposit) AS Average_Deposit\n",
    "FROM RESERVES \n",
    "JOIN BOATS ON RESERVES.BID = BOATS.BID\n",
    "GROUP BY RESERVES.BID \n",
    "\n",
    "\n",
    "'''\n",
    "result_df = pd.read_sql_query(query, conn)\n",
    "\n",
    "\n",
    "conn.close()\n",
    "\n",
    "print(result_df.to_string(index=True))"
   ]
  },
  {
   "cell_type": "markdown",
   "metadata": {},
   "source": [
    "12. Get the average deposit paid for each boat that has been booked by more than one person"
   ]
  },
  {
   "cell_type": "code",
   "execution_count": 19,
   "metadata": {},
   "outputs": [
    {
     "name": "stdout",
     "output_type": "stream",
     "text": [
      "   BID  Average_Deposit\n",
      "0  101             50.0\n",
      "1  109             40.0\n"
     ]
    }
   ],
   "source": [
    "conn = sqlite3.connect('sailing_club.db')\n",
    "cursor = conn.cursor()\n",
    "\n",
    "query = '''\n",
    "SELECT BID, AVG(Deposit) AS Average_Deposit\n",
    "FROM RESERVES \n",
    "GROUP BY BID \n",
    "HAVING COUNT(DISTINCT SID)>1  \n",
    "\n",
    "'''\n",
    "result_df = pd.read_sql_query(query, conn)\n",
    "\n",
    "\n",
    "conn.close()\n",
    "\n",
    "print(result_df.to_string(index=True))"
   ]
  },
  {
   "cell_type": "markdown",
   "metadata": {},
   "source": [
    "13. Get the average firm deposit paid for each boat that has been booked by more than one person, in increasing order of amount. A firm deposit is one witch exceeds R10."
   ]
  },
  {
   "cell_type": "code",
   "execution_count": 23,
   "metadata": {},
   "outputs": [
    {
     "name": "stdout",
     "output_type": "stream",
     "text": [
      "   BID  Average_Deposit\n",
      "0  109            110.0\n"
     ]
    }
   ],
   "source": [
    "conn = sqlite3.connect('sailing_club.db')\n",
    "cursor = conn.cursor()\n",
    "\n",
    "query = '''\n",
    "SELECT BID, AVG(Deposit) AS Average_Deposit\n",
    "FROM RESERVES \n",
    "WHERE Deposit > 10\n",
    "\n",
    "HAVING COUNT(DISTINCT(SID)) > 1 \n",
    "ORDER BY Average_Deposit\n",
    "'''\n",
    "result_df = pd.read_sql_query(query, conn)\n",
    "\n",
    "\n",
    "conn.close()\n",
    "\n",
    "print(result_df.to_string(index=True))"
   ]
  },
  {
   "cell_type": "markdown",
   "metadata": {},
   "source": [
    "18. Get name & rating of sailors with rating exceeding 7 who made any reservation with 0 deposit."
   ]
  },
  {
   "cell_type": "code",
   "execution_count": 36,
   "metadata": {},
   "outputs": [
    {
     "name": "stdout",
     "output_type": "stream",
     "text": [
      "    Sname  Rating\n",
      "0  Martin       9\n",
      "1  Carrey      10\n"
     ]
    }
   ],
   "source": [
    "\n",
    "conn = sqlite3.connect('sailing_club.db')\n",
    "cursor = conn.cursor()\n",
    "\n",
    "query = '''\n",
    "SELECT DISTINCT(SNAME), Rating\n",
    "FROM SAILORS \n",
    "WHERE Rating >7 AND SID IN \n",
    "                (SELECT SID\n",
    "                FROM RESERVES\n",
    "                WHERE Deposit =0 )\n",
    "\n",
    "\n",
    "'''\n",
    "result_df = pd.read_sql_query(query, conn)\n",
    "\n",
    "\n",
    "conn.close()\n",
    "\n",
    "print(result_df.to_string(index=True))"
   ]
  },
  {
   "cell_type": "markdown",
   "metadata": {},
   "source": [
    "Get the names of boats located in a place other than Hout Bay or Fish Hoek"
   ]
  },
  {
   "cell_type": "code",
   "execution_count": 43,
   "metadata": {},
   "outputs": [
    {
     "name": "stdout",
     "output_type": "stream",
     "text": [
      "Empty DataFrame\n",
      "Columns: [Bname, Location]\n",
      "Index: []\n"
     ]
    }
   ],
   "source": [
    "conn = sqlite3.connect('sailing_club.db')\n",
    "cursor = conn.cursor()\n",
    "\n",
    "query = '''\n",
    "SELECT Bname, Location\n",
    "FROM BOATS \n",
    "WHERE Location NOT IN (\"Fish Hoek\", \"Hout Bay\") \n",
    "\n",
    "'''\n",
    "result_df = pd.read_sql_query(query, conn)\n",
    "\n",
    "\n",
    "conn.close()\n",
    "\n",
    "print(result_df.to_string(index=True))"
   ]
  },
  {
   "cell_type": "markdown",
   "metadata": {},
   "source": [
    "16. Get names of boats having a fee larger than any boat located in Hout Bay"
   ]
  },
  {
   "cell_type": "code",
   "execution_count": 56,
   "metadata": {},
   "outputs": [
    {
     "name": "stdout",
     "output_type": "stream",
     "text": [
      "      Bname\n",
      "0  SeaPride\n"
     ]
    }
   ],
   "source": [
    "conn = sqlite3.connect('sailing_club.db')\n",
    "cursor = conn.cursor()\n",
    "\n",
    "query = '''\n",
    "SELECT DISTINCT(Bname)\n",
    "FROM BOATS \n",
    "WHERE Fee > (SELECT MAX(Fee) FROM BOATS WHERE LOCATION  =\"Hout Bay\")\n",
    "'''\n",
    "result_df = pd.read_sql_query(query, conn)\n",
    "\n",
    "\n",
    "conn.close()\n",
    "\n",
    "print(result_df.to_string(index=True))"
   ]
  },
  {
   "cell_type": "markdown",
   "metadata": {},
   "source": [
    "17. Get names that are in both the sailors and the captains relation"
   ]
  },
  {
   "cell_type": "code",
   "execution_count": 60,
   "metadata": {},
   "outputs": [
    {
     "name": "stdout",
     "output_type": "stream",
     "text": [
      "Empty DataFrame\n",
      "Columns: [Sname]\n",
      "Index: []\n"
     ]
    }
   ],
   "source": [
    "conn = sqlite3.connect('sailing_club.db')\n",
    "cursor = conn.cursor()\n",
    "\n",
    "query = '''\n",
    "Select Sailors.Sname \n",
    "FROM Sailors\n",
    "JOIN CAPTAINS ON SAILORS.SID = CAPTAINS.SID \n",
    "'''\n",
    "result_df = pd.read_sql_query(query, conn)\n",
    "\n",
    "\n",
    "conn.close()\n",
    "\n",
    "print(result_df.to_string(index=True))"
   ]
  },
  {
   "cell_type": "markdown",
   "metadata": {},
   "source": [
    "18. Get the names of boats that have exacly 1 reservation"
   ]
  },
  {
   "cell_type": "code",
   "execution_count": 67,
   "metadata": {},
   "outputs": [
    {
     "name": "stdout",
     "output_type": "stream",
     "text": [
      "      Bname\n",
      "0       Joy\n",
      "1  SeaPride\n"
     ]
    }
   ],
   "source": [
    "conn = sqlite3.connect('sailing_club.db')\n",
    "cursor = conn.cursor()\n",
    "\n",
    "query = '''\n",
    "SELECT DISTINCT(Bname)\n",
    "FROM BOATS\n",
    "WHERE BID IN(SELECT BID FROM RESERVES GROUP BY BID HAVING COUNT(BID) = 1  )\n",
    "'''\n",
    "result_df = pd.read_sql_query(query, conn)\n",
    "\n",
    "\n",
    "conn.close()\n",
    "\n",
    "print(result_df.to_string(index=True))"
   ]
  },
  {
   "cell_type": "markdown",
   "metadata": {},
   "source": [
    "19. Get the sailor ID and total deposit paid for sailors who have booked more than 1 boat "
   ]
  },
  {
   "cell_type": "code",
   "execution_count": 75,
   "metadata": {},
   "outputs": [
    {
     "name": "stdout",
     "output_type": "stream",
     "text": [
      "  SID  Total_Deposit\n",
      "0  23          240.0\n",
      "1  27          220.0\n",
      "2  33            0.0\n"
     ]
    }
   ],
   "source": [
    "conn = sqlite3.connect('sailing_club.db')\n",
    "cursor = conn.cursor()\n",
    "\n",
    "query = '''\n",
    "SELECT SAILORS.SID, SUM(RESERVES.deposit) AS Total_Deposit\n",
    "FROM SAILORS\n",
    "JOIN RESERVES ON SAILORS.SID = RESERVES.SID\n",
    "GROUP BY SAILORS.SID \n",
    "HAVING COUNT(RESERVES.SID)>1\n",
    "'''\n",
    "result_df = pd.read_sql_query(query, conn)\n",
    "\n",
    "\n",
    "conn.close()\n",
    "\n",
    "print(result_df.to_string(index=True))"
   ]
  },
  {
   "cell_type": "markdown",
   "metadata": {},
   "source": [
    "20. Get all reservation info including details of the boats booked"
   ]
  },
  {
   "cell_type": "code",
   "execution_count": 78,
   "metadata": {},
   "outputs": [
    {
     "name": "stdout",
     "output_type": "stream",
     "text": [
      "  SID  BID         Day  Deposit     Bname  BID  Fee   Location\n",
      "0  23  109  01/08/2014    120.0  Wayfarer  109  120   Hout Bay\n",
      "1  23  108  08/08/2014    120.0  SeaPride  108  500  Fish Hoek\n",
      "2  25  101  08/08/2014      0.0    Yuppie  101  400   Hout Bay\n",
      "3  27  101  09/08/2014    100.0    Yuppie  101  400   Hout Bay\n",
      "4  27  109  04/09/2014    120.0  Wayfarer  109  120   Hout Bay\n",
      "5  33  109  04/09/2014      0.0  Wayfarer  109  120   Hout Bay\n",
      "6  33  104  11/09/2014      0.0       Joy  104  200   Hout Bay\n"
     ]
    }
   ],
   "source": [
    "conn = sqlite3.connect('sailing_club.db')\n",
    "cursor = conn.cursor()\n",
    "\n",
    "query = '''\n",
    "SELECT *\n",
    "FROM RESERVES\n",
    "JOIN BOATS ON RESERVES.BID = BOATS.BID\n",
    "'''\n",
    "result_df = pd.read_sql_query(query, conn)\n",
    "\n",
    "\n",
    "conn.close()\n",
    "\n",
    "print(result_df.to_string(index=True))"
   ]
  },
  {
   "cell_type": "code",
   "execution_count": null,
   "metadata": {},
   "outputs": [],
   "source": [
    "21. Get all information of every boat. If a boat has reservation, including all its reservations info."
   ]
  },
  {
   "cell_type": "code",
   "execution_count": 79,
   "metadata": {},
   "outputs": [
    {
     "name": "stdout",
     "output_type": "stream",
     "text": [
      "      Bname  BID  Fee   Location SID  BID         Day  Deposit\n",
      "0  Wayfarer  109  120   Hout Bay  23  109  01/08/2014    120.0\n",
      "1  SeaPride  108  500  Fish Hoek  23  108  08/08/2014    120.0\n",
      "2    Yuppie  101  400   Hout Bay  25  101  08/08/2014      0.0\n",
      "3    Yuppie  101  400   Hout Bay  27  101  09/08/2014    100.0\n",
      "4  Wayfarer  109  120   Hout Bay  27  109  04/09/2014    120.0\n",
      "5  Wayfarer  109  120   Hout Bay  33  109  04/09/2014      0.0\n",
      "6       Joy  104  200   Hout Bay  33  104  11/09/2014      0.0\n"
     ]
    }
   ],
   "source": [
    "conn = sqlite3.connect('sailing_club.db')\n",
    "cursor = conn.cursor()\n",
    "\n",
    "query = '''\n",
    "SELECT *\n",
    "FROM  BOATS\n",
    "JOIN RESERVES ON RESERVES.BID = BOATS.BID \n",
    "'''\n",
    "result_df = pd.read_sql_query(query, conn)\n",
    "\n",
    "\n",
    "conn.close()\n",
    "\n",
    "print(result_df.to_string(index=True))"
   ]
  },
  {
   "cell_type": "markdown",
   "metadata": {},
   "source": [
    "22. Create a new tuple fot the boat named \"Nino\" which has fee R150, BID 110 and is in Fish Hoek."
   ]
  },
  {
   "cell_type": "code",
   "execution_count": 2,
   "metadata": {},
   "outputs": [
    {
     "name": "stdout",
     "output_type": "stream",
     "text": [
      "      Bname  BID  Fee   Location\n",
      "0  Wayfarer  109  120   Hout Bay\n",
      "1  SeaPride  108  500  Fish Hoek\n",
      "2    Yuppie  101  400   Hout Bay\n",
      "3       Joy  104  200   Hout Bay\n",
      "4      Nino  110  150  Fish Hoek\n"
     ]
    }
   ],
   "source": [
    "conn = sqlite3.connect('sailing_club.db')\n",
    "cursor = conn.cursor()\n",
    "\n",
    "# SQL INSERT query\n",
    "query = '''\n",
    "insert into BOATS\n",
    "    values('Nino', 110, 150, 'Fish Hoek')\n",
    "'''\n",
    "\n",
    "# Execute the INSERT query\n",
    "cursor.execute(query)\n",
    "conn.commit()\n",
    "\n",
    "# Optionally, you can fetch data to confirm the insertion\n",
    "select_query = 'SELECT * FROM BOATS'\n",
    "result_df = pd.read_sql_query(select_query, conn)\n",
    "\n",
    "# Close the connection\n",
    "conn.close()\n",
    "\n",
    "# Print the result DataFrame\n",
    "print(result_df.to_string(index=True))"
   ]
  },
  {
   "cell_type": "markdown",
   "metadata": {},
   "source": [
    "23. Remove all bookings from Reserves where there is no deposit "
   ]
  },
  {
   "cell_type": "code",
   "execution_count": 8,
   "metadata": {},
   "outputs": [
    {
     "name": "stdout",
     "output_type": "stream",
     "text": [
      "  SID  BID         Day  Deposit\n",
      "0  23  109  01/08/2014    120.0\n",
      "1  23  108  08/08/2014    120.0\n",
      "2  27  101  09/08/2014    100.0\n",
      "3  27  109  04/09/2014    120.0\n"
     ]
    }
   ],
   "source": [
    "conn = sqlite3.connect('sailing_club.db')\n",
    "cursor = conn.cursor()\n",
    "\n",
    "# SQL INSERT query\n",
    "query = '''\n",
    " DELETE FROM RESERVES\n",
    " WHERE Deposit IS NULL OR DEPOSIT =0\n",
    "   \n",
    "'''\n",
    "\n",
    "# Execute the INSERT query\n",
    "cursor.execute(query)\n",
    "conn.commit()\n",
    "\n",
    "# Optionally, you can fetch data to confirm the insertion\n",
    "select_query = 'SELECT * FROM RESERVES'\n",
    "result_df = pd.read_sql_query(select_query, conn)\n",
    "\n",
    "# Close the connection\n",
    "conn.close()\n",
    "\n",
    "# Print the result DataFrame\n",
    "print(result_df.to_string(index=True))"
   ]
  },
  {
   "cell_type": "markdown",
   "metadata": {},
   "source": [
    "24. Increase the fee of every boat by 12%."
   ]
  },
  {
   "cell_type": "code",
   "execution_count": 11,
   "metadata": {},
   "outputs": [
    {
     "ename": "OperationalError",
     "evalue": "database is locked",
     "output_type": "error",
     "traceback": [
      "\u001b[1;31m---------------------------------------------------------------------------\u001b[0m",
      "\u001b[1;31mOperationalError\u001b[0m                          Traceback (most recent call last)",
      "Cell \u001b[1;32mIn[11], line 11\u001b[0m\n\u001b[0;32m      5\u001b[0m query \u001b[38;5;241m=\u001b[39m \u001b[38;5;124m'''\u001b[39m\n\u001b[0;32m      6\u001b[0m \u001b[38;5;124mUPDATE BOATS \u001b[39m\n\u001b[0;32m      7\u001b[0m \u001b[38;5;124mSET Fee = Fee *1.12   \u001b[39m\n\u001b[0;32m      8\u001b[0m \u001b[38;5;124m'''\u001b[39m\n\u001b[0;32m     10\u001b[0m \u001b[38;5;66;03m# Execute the INSERT query\u001b[39;00m\n\u001b[1;32m---> 11\u001b[0m \u001b[43mcursor\u001b[49m\u001b[38;5;241;43m.\u001b[39;49m\u001b[43mexecute\u001b[49m\u001b[43m(\u001b[49m\u001b[43mquery\u001b[49m\u001b[43m)\u001b[49m\n\u001b[0;32m     12\u001b[0m conn\u001b[38;5;241m.\u001b[39mcommit()\n\u001b[0;32m     14\u001b[0m \u001b[38;5;66;03m# Optionally, you can fetch data to confirm the insertion\u001b[39;00m\n",
      "\u001b[1;31mOperationalError\u001b[0m: database is locked"
     ]
    }
   ],
   "source": [
    "conn = sqlite3.connect('sailing_club.db')\n",
    "cursor = conn.cursor()\n",
    "\n",
    "# SQL INSERT query\n",
    "query = '''\n",
    "UPDATE BOATS \n",
    "SET Fee = Fee *1.12   \n",
    "'''\n",
    "\n",
    "# Execute the INSERT query\n",
    "cursor.execute(query)\n",
    "conn.commit()\n",
    "\n",
    "# Optionally, you can fetch data to confirm the insertion\n",
    "select_query = 'SELECT * FROM BOATS'\n",
    "result_df = pd.read_sql_query(select_query, conn)\n",
    "\n",
    "# Close the connection\n",
    "conn.close()\n",
    "\n",
    "# Print the result DataFrame\n",
    "print(result_df.to_string(index=True))\n",
    "\n"
   ]
  },
  {
   "cell_type": "code",
   "execution_count": null,
   "metadata": {},
   "outputs": [],
   "source": [
    "conn = sqlite3.connect('sailing_club.db')\n",
    "cursor = conn.cursor()\n",
    "\n",
    "query = '''\n",
    "\n",
    "'''\n",
    "result_df = pd.read_sql_query(query, conn)\n",
    "\n",
    "\n",
    "conn.close()\n",
    "\n",
    "print(result_df.to_string(index=True))"
   ]
  },
  {
   "cell_type": "code",
   "execution_count": null,
   "metadata": {},
   "outputs": [],
   "source": [
    "conn = sqlite3.connect('sailing_club.db')\n",
    "cursor = conn.cursor()\n",
    "\n",
    "query = '''\n",
    "\n",
    "'''\n",
    "result_df = pd.read_sql_query(query, conn)\n",
    "\n",
    "\n",
    "conn.close()\n",
    "\n",
    "print(result_df.to_string(index=True))"
   ]
  },
  {
   "cell_type": "code",
   "execution_count": null,
   "metadata": {},
   "outputs": [],
   "source": [
    "conn = sqlite3.connect('sailing_club.db')\n",
    "cursor = conn.cursor()\n",
    "\n",
    "query = '''\n",
    "\n",
    "'''\n",
    "result_df = pd.read_sql_query(query, conn)\n",
    "\n",
    "\n",
    "conn.close()\n",
    "\n",
    "print(result_df.to_string(index=True))"
   ]
  },
  {
   "cell_type": "code",
   "execution_count": null,
   "metadata": {},
   "outputs": [],
   "source": [
    "conn = sqlite3.connect('sailing_club.db')\n",
    "cursor = conn.cursor()\n",
    "\n",
    "query = '''\n",
    "\n",
    "'''\n",
    "result_df = pd.read_sql_query(query, conn)\n",
    "\n",
    "\n",
    "conn.close()\n",
    "\n",
    "print(result_df.to_string(index=True))"
   ]
  },
  {
   "cell_type": "code",
   "execution_count": null,
   "metadata": {},
   "outputs": [],
   "source": [
    "conn = sqlite3.connect('sailing_club.db')\n",
    "cursor = conn.cursor()\n",
    "\n",
    "query = '''\n",
    "\n",
    "'''\n",
    "result_df = pd.read_sql_query(query, conn)\n",
    "\n",
    "\n",
    "conn.close()\n",
    "\n",
    "print(result_df.to_string(index=True))"
   ]
  },
  {
   "cell_type": "code",
   "execution_count": null,
   "metadata": {},
   "outputs": [],
   "source": [
    "conn = sqlite3.connect('sailing_club.db')\n",
    "cursor = conn.cursor()\n",
    "\n",
    "query = '''\n",
    "\n",
    "'''\n",
    "result_df = pd.read_sql_query(query, conn)\n",
    "\n",
    "\n",
    "conn.close()\n",
    "\n",
    "print(result_df.to_string(index=True))"
   ]
  }
 ],
 "metadata": {
  "kernelspec": {
   "display_name": "Python 3",
   "language": "python",
   "name": "python3"
  },
  "language_info": {
   "codemirror_mode": {
    "name": "ipython",
    "version": 3
   },
   "file_extension": ".py",
   "mimetype": "text/x-python",
   "name": "python",
   "nbconvert_exporter": "python",
   "pygments_lexer": "ipython3",
   "version": "3.10.11"
  }
 },
 "nbformat": 4,
 "nbformat_minor": 2
}
