{
 "cells": [
  {
   "cell_type": "markdown",
   "metadata": {},
   "source": [
    "Sailors Excersice "
   ]
  },
  {
   "cell_type": "markdown",
   "metadata": {},
   "source": [
    "Create the database"
   ]
  },
  {
   "cell_type": "code",
   "execution_count": 1,
   "metadata": {},
   "outputs": [],
   "source": [
    "import sqlite3 \n",
    "import pandas as pd"
   ]
  },
  {
   "cell_type": "code",
   "execution_count": 31,
   "metadata": {},
   "outputs": [
    {
     "data": {
      "text/plain": [
       "<function Connection.close()>"
      ]
     },
     "execution_count": 31,
     "metadata": {},
     "output_type": "execute_result"
    }
   ],
   "source": [
    "conn = sqlite3.connect('sailing_club.db')\n",
    "cursor = conn.cursor()\n",
    "cursor.execute('''DROP TABLE SAILORS''')\n",
    "cursor.execute('''DROP TABLE BOATS''')\n",
    "cursor.execute('''DROP TABLE RESERVES''')\n",
    "cursor.execute('''DROP TABLE CAPTAINS''')\n",
    "conn.commit()\n",
    "conn.close"
   ]
  },
  {
   "cell_type": "code",
   "execution_count": 2,
   "metadata": {},
   "outputs": [
    {
     "data": {
      "text/plain": [
       "<function Connection.close()>"
      ]
     },
     "execution_count": 2,
     "metadata": {},
     "output_type": "execute_result"
    }
   ],
   "source": [
    "conn = sqlite3.connect('sailing_club.db')\n",
    "cursor = conn.cursor()\n",
    "\n",
    "\n",
    "cursor.execute('''\n",
    "create table SAILORS(\n",
    "    Sname       varchar(15),\n",
    "    SID         varchar(5) PRIMARY KEY,\n",
    "    Rating      int(4),\n",
    "    Age         int(4)\n",
    ")\n",
    "''')\n",
    "\n",
    "cursor.execute('''\n",
    "create table CAPTAINS(\n",
    "    Sname       varchar(15),\n",
    "    SID         varchar(5) PRIMARY KEY,\n",
    "    Rating      int(4),\n",
    "    Age         int(4)\n",
    ")\n",
    "''')\n",
    "\n",
    "\n",
    "cursor.execute('''\n",
    "create table BOATS(\n",
    "    Bname       varchar(15),\n",
    "    BID         varchar(5) PRIMARY KEY,\n",
    "    Fee         int(4),\n",
    "    Location    varchar(15)\n",
    ")\n",
    "''')\n",
    "\n",
    "cursor.execute('''\n",
    "create table RESERVES(\n",
    "    SID         varchar(5),\n",
    "    BID         varchar(5),\n",
    "    Day         varchar(20),\n",
    "    Deposit     float(7),\n",
    "    FOREIGN KEY (SID) REFERENCES SAILORS(SID),\n",
    "    FOREIGN KEY (BID) REFERENCES BOATS(BID)\n",
    ")\n",
    "''')\n",
    "\n",
    "sailors_data = [\n",
    "    ('Marx', 23, 8, 52),\n",
    "    ('Martin', 25, 9, 51),\n",
    "    ('Adams', 27, 8, 36),\n",
    "    ('Carrey', 33, 10, 22)\n",
    "]\n",
    "\n",
    "cursor.executemany('''\n",
    "INSERT INTO Sailors (Sname, SID, Rating, Age) VALUES (?, ?, ?, ?)\n",
    "''', sailors_data)\n",
    "\n",
    "boats_data = [\n",
    "    ('Wayfarer', 109, 120, 'Hout Bay'),\n",
    "    ('SeaPride', 108, 500, 'Fish Hoek'),\n",
    "    ('Yuppie', 101, 400, 'Hout Bay'),\n",
    "    ('Joy', 104, 200, 'Hout Bay')\n",
    "]\n",
    "\n",
    "cursor.executemany('''\n",
    "INSERT INTO Boats (Bname, BID, Fee, Location) VALUES (?, ?, ?, ?)\n",
    "''', boats_data)\n",
    "\n",
    "reserves_data = [\n",
    "    (23, 109, '01/08/2014', 120),\n",
    "    (23, 108, '08/08/2014', 0),\n",
    "    (25, 101, '08/08/2014', 0),\n",
    "    (27, 101, '09/08/2014', 100),\n",
    "    (27, 109, '04/09/2014', 0),\n",
    "    (33, 109, '04/09/2014', 0),\n",
    "    (33, 104, '11/09/2014', 0)\n",
    "]\n",
    "\n",
    "cursor.executemany('''\n",
    "INSERT INTO Reserves (SID, BID, Day, Deposit) VALUES (?, ?, ?, ?)\n",
    "''', reserves_data)\n",
    "\n",
    "conn.commit()\n",
    "conn.close"
   ]
  },
  {
   "cell_type": "markdown",
   "metadata": {},
   "source": [
    "1. Get everything in the Sailors table"
   ]
  },
  {
   "cell_type": "code",
   "execution_count": 3,
   "metadata": {},
   "outputs": [
    {
     "name": "stdout",
     "output_type": "stream",
     "text": [
      "    Sname SID  Rating  Age\n",
      "0    Marx  23       8   52\n",
      "1  Martin  25       9   51\n",
      "2   Adams  27       8   36\n",
      "3  Carrey  33      10   22\n"
     ]
    }
   ],
   "source": [
    "conn = sqlite3.connect('sailing_club.db')\n",
    "cursor = conn.cursor()\n",
    "\n",
    "query = '''\n",
    "SELECT *\n",
    "FROM SAILORS\n",
    "'''\n",
    "result_df = pd.read_sql_query(query, conn)\n",
    "\n",
    "\n",
    "conn.close()\n",
    "\n",
    "print(result_df.to_string(index=True))"
   ]
  },
  {
   "cell_type": "markdown",
   "metadata": {},
   "source": [
    "Get sailor ID, rank & age of all sailors, ordered from highest to lowest rank. Rank is 10 rimes rating"
   ]
  },
  {
   "cell_type": "code",
   "execution_count": 4,
   "metadata": {},
   "outputs": [
    {
     "name": "stdout",
     "output_type": "stream",
     "text": [
      "  SID  Rank  Age\n",
      "0  23    80   52\n",
      "1  27    80   36\n",
      "2  25    90   51\n",
      "3  33   100   22\n"
     ]
    }
   ],
   "source": [
    "conn = sqlite3.connect('sailing_club.db')\n",
    "cursor = conn.cursor()\n",
    "\n",
    "query = '''\n",
    "SELECT SID, 10*Rating AS Rank, Age\n",
    "FROM SAILORS\n",
    "ORDER BY Rank\n",
    "'''\n",
    "result_df = pd.read_sql_query(query, conn)\n",
    "\n",
    "\n",
    "conn.close()\n",
    "\n",
    "print(result_df.to_string(index=True))"
   ]
  },
  {
   "cell_type": "markdown",
   "metadata": {},
   "source": [
    "3. Get alphabetical list of sailors with rating less than 10"
   ]
  },
  {
   "cell_type": "code",
   "execution_count": 5,
   "metadata": {},
   "outputs": [
    {
     "name": "stdout",
     "output_type": "stream",
     "text": [
      "    Sname  Rating\n",
      "0   Adams       8\n",
      "1  Martin       9\n",
      "2    Marx       8\n"
     ]
    }
   ],
   "source": [
    "conn = sqlite3.connect('sailing_club.db')\n",
    "cursor = conn.cursor()\n",
    "\n",
    "query = '''\n",
    "SELECT Sname, Rating\n",
    "FROM SAILORS \n",
    "WHERE Rating < 10 \n",
    "ORDER BY Sname \n",
    "'''\n",
    "result_df = pd.read_sql_query(query, conn)\n",
    "\n",
    "\n",
    "conn.close()\n",
    "\n",
    "print(result_df.to_string(index=True))"
   ]
  },
  {
   "cell_type": "markdown",
   "metadata": {},
   "source": [
    "4. Find how much deposit money there is in total and how many tuples are in the reserves table"
   ]
  },
  {
   "cell_type": "code",
   "execution_count": 6,
   "metadata": {},
   "outputs": [
    {
     "name": "stdout",
     "output_type": "stream",
     "text": [
      "   TotalTuples  TotalMoney\n",
      "0            7       220.0\n"
     ]
    }
   ],
   "source": [
    "conn = sqlite3.connect('sailing_club.db')\n",
    "cursor = conn.cursor()\n",
    "\n",
    "query = '''\n",
    "SELECT COUNT(Deposit) AS TotalTuples, SUM(Deposit) AS TotalMoney \n",
    "FROM RESERVES \n",
    " '''\n",
    "result_df = pd.read_sql_query(query, conn)\n",
    "\n",
    "\n",
    "conn.close()\n",
    "\n",
    "print(result_df.to_string(index=True))"
   ]
  },
  {
   "cell_type": "markdown",
   "metadata": {},
   "source": [
    "5. Get all info on boats in Fishoek but I'm not sure how you spell Fishoek. "
   ]
  },
  {
   "cell_type": "code",
   "execution_count": 7,
   "metadata": {},
   "outputs": [
    {
     "name": "stdout",
     "output_type": "stream",
     "text": [
      "      Bname  BID  Fee   Location\n",
      "0  SeaPride  108  500  Fish Hoek\n"
     ]
    }
   ],
   "source": [
    "conn = sqlite3.connect('sailing_club.db')\n",
    "cursor = conn.cursor()\n",
    "\n",
    "query = '''\n",
    "SELECT *\n",
    "FROM BOATS \n",
    "WHERE LOCATION LIKE \"_IS%K\"\n",
    "'''\n",
    "result_df = pd.read_sql_query(query, conn)\n",
    "\n",
    "\n",
    "conn.close()\n",
    "\n",
    "print(result_df.to_string(index=True))"
   ]
  },
  {
   "cell_type": "markdown",
   "metadata": {},
   "source": [
    "6. In what Locations are boats kept? "
   ]
  },
  {
   "cell_type": "code",
   "execution_count": 10,
   "metadata": {},
   "outputs": [
    {
     "name": "stdout",
     "output_type": "stream",
     "text": [
      "    Location\n",
      "0   Hout Bay\n",
      "1  Fish Hoek\n"
     ]
    }
   ],
   "source": [
    "conn = sqlite3.connect('sailing_club.db')\n",
    "cursor = conn.cursor()\n",
    "\n",
    "query = '''\n",
    "SELECT DISTINCT(Location) \n",
    "FROM BOATS \n",
    "'''\n",
    "result_df = pd.read_sql_query(query, conn)\n",
    "\n",
    "\n",
    "conn.close()\n",
    "\n",
    "print(result_df.to_string(index=True))"
   ]
  },
  {
   "cell_type": "markdown",
   "metadata": {},
   "source": [
    "7. Get the names of all Boats tht have a fee value recorded in the database"
   ]
  },
  {
   "cell_type": "code",
   "execution_count": 13,
   "metadata": {},
   "outputs": [
    {
     "ename": "DatabaseError",
     "evalue": "Execution failed on sql '\nSELECT DISTINCT(Bname)\nFROM BOATS \nWHERE Reserves.BID = Reserves.BID   \n': no such column: Reserves.BID",
     "output_type": "error",
     "traceback": [
      "\u001b[1;31m---------------------------------------------------------------------------\u001b[0m",
      "\u001b[1;31mOperationalError\u001b[0m                          Traceback (most recent call last)",
      "File \u001b[1;32m~\\AppData\\Local\\Packages\\PythonSoftwareFoundation.Python.3.10_qbz5n2kfra8p0\\LocalCache\\local-packages\\Python310\\site-packages\\pandas\\io\\sql.py:2018\u001b[0m, in \u001b[0;36mSQLiteDatabase.execute\u001b[1;34m(self, *args, **kwargs)\u001b[0m\n\u001b[0;32m   2017\u001b[0m \u001b[38;5;28;01mtry\u001b[39;00m:\n\u001b[1;32m-> 2018\u001b[0m     cur\u001b[38;5;241m.\u001b[39mexecute(\u001b[38;5;241m*\u001b[39margs, \u001b[38;5;241m*\u001b[39m\u001b[38;5;241m*\u001b[39mkwargs)\n\u001b[0;32m   2019\u001b[0m     \u001b[38;5;28;01mreturn\u001b[39;00m cur\n",
      "\u001b[1;31mOperationalError\u001b[0m: no such column: Reserves.BID",
      "\nThe above exception was the direct cause of the following exception:\n",
      "\u001b[1;31mDatabaseError\u001b[0m                             Traceback (most recent call last)",
      "Cell \u001b[1;32mIn[13], line 9\u001b[0m\n\u001b[0;32m      2\u001b[0m cursor \u001b[38;5;241m=\u001b[39m conn\u001b[38;5;241m.\u001b[39mcursor()\n\u001b[0;32m      4\u001b[0m query \u001b[38;5;241m=\u001b[39m \u001b[38;5;124m'''\u001b[39m\n\u001b[0;32m      5\u001b[0m \u001b[38;5;124mSELECT DISTINCT(Bname)\u001b[39m\n\u001b[0;32m      6\u001b[0m \u001b[38;5;124mFROM BOATS \u001b[39m\n\u001b[0;32m      7\u001b[0m \u001b[38;5;124mWHERE Reserves.BID = Reserves.BID   \u001b[39m\n\u001b[0;32m      8\u001b[0m \u001b[38;5;124m'''\u001b[39m\n\u001b[1;32m----> 9\u001b[0m result_df \u001b[38;5;241m=\u001b[39m \u001b[43mpd\u001b[49m\u001b[38;5;241;43m.\u001b[39;49m\u001b[43mread_sql_query\u001b[49m\u001b[43m(\u001b[49m\u001b[43mquery\u001b[49m\u001b[43m,\u001b[49m\u001b[43m \u001b[49m\u001b[43mconn\u001b[49m\u001b[43m)\u001b[49m\n\u001b[0;32m     12\u001b[0m conn\u001b[38;5;241m.\u001b[39mclose()\n\u001b[0;32m     14\u001b[0m \u001b[38;5;28mprint\u001b[39m(result_df\u001b[38;5;241m.\u001b[39mto_string(index\u001b[38;5;241m=\u001b[39m\u001b[38;5;28;01mTrue\u001b[39;00m))\n",
      "File \u001b[1;32m~\\AppData\\Local\\Packages\\PythonSoftwareFoundation.Python.3.10_qbz5n2kfra8p0\\LocalCache\\local-packages\\Python310\\site-packages\\pandas\\io\\sql.py:397\u001b[0m, in \u001b[0;36mread_sql_query\u001b[1;34m(sql, con, index_col, coerce_float, params, parse_dates, chunksize, dtype)\u001b[0m\n\u001b[0;32m    339\u001b[0m \u001b[38;5;250m\u001b[39m\u001b[38;5;124;03m\"\"\"\u001b[39;00m\n\u001b[0;32m    340\u001b[0m \u001b[38;5;124;03mRead SQL query into a DataFrame.\u001b[39;00m\n\u001b[0;32m    341\u001b[0m \n\u001b[1;32m   (...)\u001b[0m\n\u001b[0;32m    394\u001b[0m \u001b[38;5;124;03mparameter will be converted to UTC.\u001b[39;00m\n\u001b[0;32m    395\u001b[0m \u001b[38;5;124;03m\"\"\"\u001b[39;00m\n\u001b[0;32m    396\u001b[0m pandas_sql \u001b[38;5;241m=\u001b[39m pandasSQL_builder(con)\n\u001b[1;32m--> 397\u001b[0m \u001b[38;5;28;01mreturn\u001b[39;00m \u001b[43mpandas_sql\u001b[49m\u001b[38;5;241;43m.\u001b[39;49m\u001b[43mread_query\u001b[49m\u001b[43m(\u001b[49m\n\u001b[0;32m    398\u001b[0m \u001b[43m    \u001b[49m\u001b[43msql\u001b[49m\u001b[43m,\u001b[49m\n\u001b[0;32m    399\u001b[0m \u001b[43m    \u001b[49m\u001b[43mindex_col\u001b[49m\u001b[38;5;241;43m=\u001b[39;49m\u001b[43mindex_col\u001b[49m\u001b[43m,\u001b[49m\n\u001b[0;32m    400\u001b[0m \u001b[43m    \u001b[49m\u001b[43mparams\u001b[49m\u001b[38;5;241;43m=\u001b[39;49m\u001b[43mparams\u001b[49m\u001b[43m,\u001b[49m\n\u001b[0;32m    401\u001b[0m \u001b[43m    \u001b[49m\u001b[43mcoerce_float\u001b[49m\u001b[38;5;241;43m=\u001b[39;49m\u001b[43mcoerce_float\u001b[49m\u001b[43m,\u001b[49m\n\u001b[0;32m    402\u001b[0m \u001b[43m    \u001b[49m\u001b[43mparse_dates\u001b[49m\u001b[38;5;241;43m=\u001b[39;49m\u001b[43mparse_dates\u001b[49m\u001b[43m,\u001b[49m\n\u001b[0;32m    403\u001b[0m \u001b[43m    \u001b[49m\u001b[43mchunksize\u001b[49m\u001b[38;5;241;43m=\u001b[39;49m\u001b[43mchunksize\u001b[49m\u001b[43m,\u001b[49m\n\u001b[0;32m    404\u001b[0m \u001b[43m    \u001b[49m\u001b[43mdtype\u001b[49m\u001b[38;5;241;43m=\u001b[39;49m\u001b[43mdtype\u001b[49m\u001b[43m,\u001b[49m\n\u001b[0;32m    405\u001b[0m \u001b[43m\u001b[49m\u001b[43m)\u001b[49m\n",
      "File \u001b[1;32m~\\AppData\\Local\\Packages\\PythonSoftwareFoundation.Python.3.10_qbz5n2kfra8p0\\LocalCache\\local-packages\\Python310\\site-packages\\pandas\\io\\sql.py:2078\u001b[0m, in \u001b[0;36mSQLiteDatabase.read_query\u001b[1;34m(self, sql, index_col, coerce_float, params, parse_dates, chunksize, dtype)\u001b[0m\n\u001b[0;32m   2066\u001b[0m \u001b[38;5;28;01mdef\u001b[39;00m \u001b[38;5;21mread_query\u001b[39m(\n\u001b[0;32m   2067\u001b[0m     \u001b[38;5;28mself\u001b[39m,\n\u001b[0;32m   2068\u001b[0m     sql,\n\u001b[1;32m   (...)\u001b[0m\n\u001b[0;32m   2074\u001b[0m     dtype: DtypeArg \u001b[38;5;241m|\u001b[39m \u001b[38;5;28;01mNone\u001b[39;00m \u001b[38;5;241m=\u001b[39m \u001b[38;5;28;01mNone\u001b[39;00m,\n\u001b[0;32m   2075\u001b[0m ) \u001b[38;5;241m-\u001b[39m\u001b[38;5;241m>\u001b[39m DataFrame \u001b[38;5;241m|\u001b[39m Iterator[DataFrame]:\n\u001b[0;32m   2077\u001b[0m     args \u001b[38;5;241m=\u001b[39m _convert_params(sql, params)\n\u001b[1;32m-> 2078\u001b[0m     cursor \u001b[38;5;241m=\u001b[39m \u001b[38;5;28;43mself\u001b[39;49m\u001b[38;5;241;43m.\u001b[39;49m\u001b[43mexecute\u001b[49m\u001b[43m(\u001b[49m\u001b[38;5;241;43m*\u001b[39;49m\u001b[43margs\u001b[49m\u001b[43m)\u001b[49m\n\u001b[0;32m   2079\u001b[0m     columns \u001b[38;5;241m=\u001b[39m [col_desc[\u001b[38;5;241m0\u001b[39m] \u001b[38;5;28;01mfor\u001b[39;00m col_desc \u001b[38;5;129;01min\u001b[39;00m cursor\u001b[38;5;241m.\u001b[39mdescription]\n\u001b[0;32m   2081\u001b[0m     \u001b[38;5;28;01mif\u001b[39;00m chunksize \u001b[38;5;129;01mis\u001b[39;00m \u001b[38;5;129;01mnot\u001b[39;00m \u001b[38;5;28;01mNone\u001b[39;00m:\n",
      "File \u001b[1;32m~\\AppData\\Local\\Packages\\PythonSoftwareFoundation.Python.3.10_qbz5n2kfra8p0\\LocalCache\\local-packages\\Python310\\site-packages\\pandas\\io\\sql.py:2030\u001b[0m, in \u001b[0;36mSQLiteDatabase.execute\u001b[1;34m(self, *args, **kwargs)\u001b[0m\n\u001b[0;32m   2027\u001b[0m     \u001b[38;5;28;01mraise\u001b[39;00m ex \u001b[38;5;28;01mfrom\u001b[39;00m \u001b[38;5;21;01minner_exc\u001b[39;00m\n\u001b[0;32m   2029\u001b[0m ex \u001b[38;5;241m=\u001b[39m DatabaseError(\u001b[38;5;124mf\u001b[39m\u001b[38;5;124m\"\u001b[39m\u001b[38;5;124mExecution failed on sql \u001b[39m\u001b[38;5;124m'\u001b[39m\u001b[38;5;132;01m{\u001b[39;00margs[\u001b[38;5;241m0\u001b[39m]\u001b[38;5;132;01m}\u001b[39;00m\u001b[38;5;124m'\u001b[39m\u001b[38;5;124m: \u001b[39m\u001b[38;5;132;01m{\u001b[39;00mexc\u001b[38;5;132;01m}\u001b[39;00m\u001b[38;5;124m\"\u001b[39m)\n\u001b[1;32m-> 2030\u001b[0m \u001b[38;5;28;01mraise\u001b[39;00m ex \u001b[38;5;28;01mfrom\u001b[39;00m \u001b[38;5;21;01mexc\u001b[39;00m\n",
      "\u001b[1;31mDatabaseError\u001b[0m: Execution failed on sql '\nSELECT DISTINCT(Bname)\nFROM BOATS \nWHERE Reserves.BID = Reserves.BID   \n': no such column: Reserves.BID"
     ]
    }
   ],
   "source": [
    "conn = sqlite3.connect('sailing_club.db')\n",
    "cursor = conn.cursor()\n",
    "\n",
    "query = '''\n",
    "SELECT DISTINCT(Bname)\n",
    "FROM BOATS \n",
    "WHERE Reserves.BID = Reserves.BID   \n",
    "'''\n",
    "result_df = pd.read_sql_query(query, conn)\n",
    "\n",
    "\n",
    "conn.close()\n",
    "\n",
    "print(result_df.to_string(index=True))"
   ]
  },
  {
   "cell_type": "code",
   "execution_count": null,
   "metadata": {},
   "outputs": [],
   "source": [
    "conn = sqlite3.connect('sailing_club.db')\n",
    "cursor = conn.cursor()\n",
    "\n",
    "query = '''\n",
    "\n",
    "'''\n",
    "result_df = pd.read_sql_query(query, conn)\n",
    "\n",
    "\n",
    "conn.close()\n",
    "\n",
    "print(result_df.to_string(index=True))"
   ]
  },
  {
   "cell_type": "code",
   "execution_count": null,
   "metadata": {},
   "outputs": [],
   "source": [
    "conn = sqlite3.connect('sailing_club.db')\n",
    "cursor = conn.cursor()\n",
    "\n",
    "query = '''\n",
    "\n",
    "'''\n",
    "result_df = pd.read_sql_query(query, conn)\n",
    "\n",
    "\n",
    "conn.close()\n",
    "\n",
    "print(result_df.to_string(index=True))"
   ]
  }
 ],
 "metadata": {
  "kernelspec": {
   "display_name": "Python 3",
   "language": "python",
   "name": "python3"
  },
  "language_info": {
   "codemirror_mode": {
    "name": "ipython",
    "version": 3
   },
   "file_extension": ".py",
   "mimetype": "text/x-python",
   "name": "python",
   "nbconvert_exporter": "python",
   "pygments_lexer": "ipython3",
   "version": "3.10.11"
  }
 },
 "nbformat": 4,
 "nbformat_minor": 2
}
