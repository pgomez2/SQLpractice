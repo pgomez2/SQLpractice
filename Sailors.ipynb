{
 "cells": [
  {
   "cell_type": "markdown",
   "metadata": {},
   "source": [
    "Sailors Excersice "
   ]
  },
  {
   "cell_type": "markdown",
   "metadata": {},
   "source": [
    "Create the database"
   ]
  },
  {
   "cell_type": "code",
   "execution_count": 2,
   "metadata": {},
   "outputs": [],
   "source": [
    "import sqlite3 \n",
    "import pandas as pd"
   ]
  },
  {
   "cell_type": "code",
   "execution_count": 31,
   "metadata": {},
   "outputs": [
    {
     "data": {
      "text/plain": [
       "<function Connection.close()>"
      ]
     },
     "execution_count": 31,
     "metadata": {},
     "output_type": "execute_result"
    }
   ],
   "source": [
    "conn = sqlite3.connect('sailing_club.db')\n",
    "cursor = conn.cursor()\n",
    "cursor.execute('''DROP TABLE SAILORS''')\n",
    "cursor.execute('''DROP TABLE BOATS''')\n",
    "cursor.execute('''DROP TABLE RESERVES''')\n",
    "cursor.execute('''DROP TABLE CAPTAINS''')\n",
    "conn.commit()\n",
    "conn.close"
   ]
  },
  {
   "cell_type": "code",
   "execution_count": 2,
   "metadata": {},
   "outputs": [
    {
     "data": {
      "text/plain": [
       "<function Connection.close()>"
      ]
     },
     "execution_count": 2,
     "metadata": {},
     "output_type": "execute_result"
    }
   ],
   "source": [
    "conn = sqlite3.connect('sailing_club.db')\n",
    "cursor = conn.cursor()\n",
    "\n",
    "\n",
    "cursor.execute('''\n",
    "create table SAILORS(\n",
    "    Sname       varchar(15),\n",
    "    SID         varchar(5) PRIMARY KEY,\n",
    "    Rating      int(4),\n",
    "    Age         int(4)\n",
    ")\n",
    "''')\n",
    "\n",
    "cursor.execute('''\n",
    "create table CAPTAINS(\n",
    "    Sname       varchar(15),\n",
    "    SID         varchar(5) PRIMARY KEY,\n",
    "    Rating      int(4),\n",
    "    Age         int(4)\n",
    ")\n",
    "''')\n",
    "\n",
    "\n",
    "cursor.execute('''\n",
    "create table BOATS(\n",
    "    Bname       varchar(15),\n",
    "    BID         varchar(5) PRIMARY KEY,\n",
    "    Fee         int(4),\n",
    "    Location    varchar(15)\n",
    ")\n",
    "''')\n",
    "\n",
    "cursor.execute('''\n",
    "create table RESERVES(\n",
    "    SID         varchar(5),\n",
    "    BID         varchar(5),\n",
    "    Day         varchar(20),\n",
    "    Deposit     float(7),\n",
    "    FOREIGN KEY (SID) REFERENCES SAILORS(SID),\n",
    "    FOREIGN KEY (BID) REFERENCES BOATS(BID)\n",
    ")\n",
    "''')\n",
    "\n",
    "sailors_data = [\n",
    "    ('Marx', 23, 8, 52),\n",
    "    ('Martin', 25, 9, 51),\n",
    "    ('Adams', 27, 8, 36),\n",
    "    ('Carrey', 33, 10, 22)\n",
    "]\n",
    "\n",
    "cursor.executemany('''\n",
    "INSERT INTO Sailors (Sname, SID, Rating, Age) VALUES (?, ?, ?, ?)\n",
    "''', sailors_data)\n",
    "\n",
    "boats_data = [\n",
    "    ('Wayfarer', 109, 120, 'Hout Bay'),\n",
    "    ('SeaPride', 108, 500, 'Fish Hoek'),\n",
    "    ('Yuppie', 101, 400, 'Hout Bay'),\n",
    "    ('Joy', 104, 200, 'Hout Bay')\n",
    "]\n",
    "\n",
    "cursor.executemany('''\n",
    "INSERT INTO Boats (Bname, BID, Fee, Location) VALUES (?, ?, ?, ?)\n",
    "''', boats_data)\n",
    "\n",
    "reserves_data = [\n",
    "    (23, 109, '01/08/2014', 120),\n",
    "    (23, 108, '08/08/2014', 0),\n",
    "    (25, 101, '08/08/2014', 0),\n",
    "    (27, 101, '09/08/2014', 100),\n",
    "    (27, 109, '04/09/2014', 0),\n",
    "    (33, 109, '04/09/2014', 0),\n",
    "    (33, 104, '11/09/2014', 0)\n",
    "]\n",
    "\n",
    "cursor.executemany('''\n",
    "INSERT INTO Reserves (SID, BID, Day, Deposit) VALUES (?, ?, ?, ?)\n",
    "''', reserves_data)\n",
    "\n",
    "conn.commit()\n",
    "conn.close"
   ]
  },
  {
   "cell_type": "markdown",
   "metadata": {},
   "source": [
    "1. Get everything in the Sailors table"
   ]
  },
  {
   "cell_type": "code",
   "execution_count": 3,
   "metadata": {},
   "outputs": [
    {
     "name": "stdout",
     "output_type": "stream",
     "text": [
      "    Sname SID  Rating  Age\n",
      "0    Marx  23       8   52\n",
      "1  Martin  25       9   51\n",
      "2   Adams  27       8   36\n",
      "3  Carrey  33      10   22\n"
     ]
    }
   ],
   "source": [
    "conn = sqlite3.connect('sailing_club.db')\n",
    "cursor = conn.cursor()\n",
    "\n",
    "query = '''\n",
    "SELECT *\n",
    "FROM SAILORS\n",
    "'''\n",
    "result_df = pd.read_sql_query(query, conn)\n",
    "\n",
    "\n",
    "conn.close()\n",
    "\n",
    "print(result_df.to_string(index=True))"
   ]
  },
  {
   "cell_type": "markdown",
   "metadata": {},
   "source": [
    "Get sailor ID, rank & age of all sailors, ordered from highest to lowest rank. Rank is 10 rimes rating"
   ]
  },
  {
   "cell_type": "code",
   "execution_count": 4,
   "metadata": {},
   "outputs": [
    {
     "name": "stdout",
     "output_type": "stream",
     "text": [
      "  SID  Rank  Age\n",
      "0  23    80   52\n",
      "1  27    80   36\n",
      "2  25    90   51\n",
      "3  33   100   22\n"
     ]
    }
   ],
   "source": [
    "conn = sqlite3.connect('sailing_club.db')\n",
    "cursor = conn.cursor()\n",
    "\n",
    "query = '''\n",
    "SELECT SID, 10*Rating AS Rank, Age\n",
    "FROM SAILORS\n",
    "ORDER BY Rank\n",
    "'''\n",
    "result_df = pd.read_sql_query(query, conn)\n",
    "\n",
    "\n",
    "conn.close()\n",
    "\n",
    "print(result_df.to_string(index=True))"
   ]
  },
  {
   "cell_type": "markdown",
   "metadata": {},
   "source": [
    "3. Get alphabetical list of sailors with rating less than 10"
   ]
  },
  {
   "cell_type": "code",
   "execution_count": 5,
   "metadata": {},
   "outputs": [
    {
     "name": "stdout",
     "output_type": "stream",
     "text": [
      "    Sname  Rating\n",
      "0   Adams       8\n",
      "1  Martin       9\n",
      "2    Marx       8\n"
     ]
    }
   ],
   "source": [
    "conn = sqlite3.connect('sailing_club.db')\n",
    "cursor = conn.cursor()\n",
    "\n",
    "query = '''\n",
    "SELECT Sname, Rating\n",
    "FROM SAILORS \n",
    "WHERE Rating < 10 \n",
    "ORDER BY Sname \n",
    "'''\n",
    "result_df = pd.read_sql_query(query, conn)\n",
    "\n",
    "\n",
    "conn.close()\n",
    "\n",
    "print(result_df.to_string(index=True))"
   ]
  },
  {
   "cell_type": "markdown",
   "metadata": {},
   "source": [
    "4. Find how much deposit money there is in total and how many tuples are in the reserves table"
   ]
  },
  {
   "cell_type": "code",
   "execution_count": 6,
   "metadata": {},
   "outputs": [
    {
     "name": "stdout",
     "output_type": "stream",
     "text": [
      "   TotalTuples  TotalMoney\n",
      "0            7       220.0\n"
     ]
    }
   ],
   "source": [
    "conn = sqlite3.connect('sailing_club.db')\n",
    "cursor = conn.cursor()\n",
    "\n",
    "query = '''\n",
    "SELECT COUNT(Deposit) AS TotalTuples, SUM(Deposit) AS TotalMoney \n",
    "FROM RESERVES \n",
    " '''\n",
    "result_df = pd.read_sql_query(query, conn)\n",
    "\n",
    "\n",
    "conn.close()\n",
    "\n",
    "print(result_df.to_string(index=True))"
   ]
  },
  {
   "cell_type": "markdown",
   "metadata": {},
   "source": [
    "5. Get all info on boats in Fishoek but I'm not sure how you spell Fishoek. "
   ]
  },
  {
   "cell_type": "code",
   "execution_count": 7,
   "metadata": {},
   "outputs": [
    {
     "name": "stdout",
     "output_type": "stream",
     "text": [
      "      Bname  BID  Fee   Location\n",
      "0  SeaPride  108  500  Fish Hoek\n"
     ]
    }
   ],
   "source": [
    "conn = sqlite3.connect('sailing_club.db')\n",
    "cursor = conn.cursor()\n",
    "\n",
    "query = '''\n",
    "SELECT *\n",
    "FROM BOATS \n",
    "WHERE LOCATION LIKE \"_IS%K\"\n",
    "'''\n",
    "result_df = pd.read_sql_query(query, conn)\n",
    "\n",
    "\n",
    "conn.close()\n",
    "\n",
    "print(result_df.to_string(index=True))"
   ]
  },
  {
   "cell_type": "markdown",
   "metadata": {},
   "source": [
    "6. In what Locations are boats kept? "
   ]
  },
  {
   "cell_type": "code",
   "execution_count": 10,
   "metadata": {},
   "outputs": [
    {
     "name": "stdout",
     "output_type": "stream",
     "text": [
      "    Location\n",
      "0   Hout Bay\n",
      "1  Fish Hoek\n"
     ]
    }
   ],
   "source": [
    "conn = sqlite3.connect('sailing_club.db')\n",
    "cursor = conn.cursor()\n",
    "\n",
    "query = '''\n",
    "SELECT DISTINCT(Location) \n",
    "FROM BOATS \n",
    "'''\n",
    "result_df = pd.read_sql_query(query, conn)\n",
    "\n",
    "\n",
    "conn.close()\n",
    "\n",
    "print(result_df.to_string(index=True))"
   ]
  },
  {
   "cell_type": "markdown",
   "metadata": {},
   "source": [
    "7. Get the names of all Boats tht have a fee value recorded in the database"
   ]
  },
  {
   "cell_type": "code",
   "execution_count": 3,
   "metadata": {},
   "outputs": [
    {
     "name": "stdout",
     "output_type": "stream",
     "text": [
      "      Bname\n",
      "0  Wayfarer\n",
      "1  SeaPride\n",
      "2    Yuppie\n",
      "3       Joy\n"
     ]
    }
   ],
   "source": [
    "conn = sqlite3.connect('sailing_club.db')\n",
    "cursor = conn.cursor()\n",
    "\n",
    "query = '''\n",
    "SELECT DISTINCT(Bname)\n",
    "FROM BOATS \n",
    "JOIN RESERVES ON RESERVES.BID = BOATS.BID   \n",
    "'''\n",
    "result_df = pd.read_sql_query(query, conn)\n",
    "\n",
    "\n",
    "conn.close()\n",
    "\n",
    "print(result_df.to_string(index=True))"
   ]
  },
  {
   "cell_type": "markdown",
   "metadata": {},
   "source": [
    "8. Get ID of all boats that have not been reserved "
   ]
  },
  {
   "cell_type": "code",
   "execution_count": 4,
   "metadata": {},
   "outputs": [
    {
     "name": "stdout",
     "output_type": "stream",
     "text": [
      "Empty DataFrame\n",
      "Columns: [Bname]\n",
      "Index: []\n"
     ]
    }
   ],
   "source": [
    "conn = sqlite3.connect('sailing_club.db')\n",
    "cursor = conn.cursor()\n",
    "\n",
    "query = '''\n",
    "SELECT DISTINCT(Bname)\n",
    "FROM BOATS  \n",
    "WHERE BID NOT IN (SELECT DISTINCT(BID) FROM RESERVES)\n",
    "\n",
    "'''\n",
    "result_df = pd.read_sql_query(query, conn)\n",
    "\n",
    "\n",
    "conn.close()\n",
    "\n",
    "print(result_df.to_string(index=True))"
   ]
  },
  {
   "cell_type": "markdown",
   "metadata": {},
   "source": [
    "9. Get all reservation info, including all details on the boats being reserved."
   ]
  },
  {
   "cell_type": "code",
   "execution_count": 7,
   "metadata": {},
   "outputs": [
    {
     "name": "stdout",
     "output_type": "stream",
     "text": [
      "  SID  BID         Day  Deposit     Bname  BID  Fee   Location\n",
      "0  23  109  01/08/2014    120.0  Wayfarer  109  120   Hout Bay\n",
      "1  23  108  08/08/2014      0.0  SeaPride  108  500  Fish Hoek\n",
      "2  25  101  08/08/2014      0.0    Yuppie  101  400   Hout Bay\n",
      "3  27  101  09/08/2014    100.0    Yuppie  101  400   Hout Bay\n",
      "4  27  109  04/09/2014      0.0  Wayfarer  109  120   Hout Bay\n",
      "5  33  109  04/09/2014      0.0  Wayfarer  109  120   Hout Bay\n",
      "6  33  104  11/09/2014      0.0       Joy  104  200   Hout Bay\n"
     ]
    }
   ],
   "source": [
    "conn = sqlite3.connect('sailing_club.db')\n",
    "cursor = conn.cursor()\n",
    "\n",
    "query = '''\n",
    "SELECT *\n",
    "FROM RESERVES \n",
    "JOIN BOATS ON BOATS.BID = RESERVES.BID\n",
    "'''\n",
    "result_df = pd.read_sql_query(query, conn)\n",
    "\n",
    "\n",
    "conn.close()\n",
    "\n",
    "print(result_df.to_string(index=True))"
   ]
  },
  {
   "cell_type": "markdown",
   "metadata": {},
   "source": [
    "10. For all reservation, get the name of the sailor, along with the day and name of the boat booked."
   ]
  },
  {
   "cell_type": "code",
   "execution_count": 3,
   "metadata": {},
   "outputs": [
    {
     "name": "stdout",
     "output_type": "stream",
     "text": [
      "  SID  BID         Day  Deposit     Bname   Sname\n",
      "0  23  109  01/08/2014    120.0  Wayfarer    Marx\n",
      "1  23  108  08/08/2014      0.0  SeaPride    Marx\n",
      "2  25  101  08/08/2014      0.0    Yuppie  Martin\n",
      "3  27  101  09/08/2014    100.0    Yuppie   Adams\n",
      "4  27  109  04/09/2014      0.0  Wayfarer   Adams\n",
      "5  33  109  04/09/2014      0.0  Wayfarer  Carrey\n",
      "6  33  104  11/09/2014      0.0       Joy  Carrey\n"
     ]
    }
   ],
   "source": [
    "conn = sqlite3.connect('sailing_club.db')\n",
    "cursor = conn.cursor()\n",
    "\n",
    "query = '''\n",
    "SELECT RESERVES.SID, RESERVES.BID, RESERVES.Day, RESERVES.Deposit, BOATS.Bname, SAILORS.Sname\n",
    "FROM RESERVES \n",
    "JOIN BOATS ON RESERVES.BID = BOATS.BID \n",
    "JOIN SAILORS ON RESERVES.SID = SAILORS.SID \n",
    "'''\n",
    "result_df = pd.read_sql_query(query, conn)\n",
    "\n",
    "\n",
    "conn.close()\n",
    "\n",
    "print(result_df.to_string(index=True))"
   ]
  },
  {
   "cell_type": "markdown",
   "metadata": {},
   "source": [
    "11. Get the average deposit paid for each boat."
   ]
  },
  {
   "cell_type": "code",
   "execution_count": 11,
   "metadata": {},
   "outputs": [
    {
     "name": "stdout",
     "output_type": "stream",
     "text": [
      "      Bname  BID  Average_Deposit\n",
      "0    Yuppie  101             50.0\n",
      "1       Joy  104              0.0\n",
      "2  SeaPride  108              0.0\n",
      "3  Wayfarer  109             40.0\n"
     ]
    }
   ],
   "source": [
    "conn = sqlite3.connect('sailing_club.db')\n",
    "cursor = conn.cursor()\n",
    "\n",
    "query = '''\n",
    "SELECT BOATS.Bname,RESERVES.BID , AVG(Deposit) AS Average_Deposit\n",
    "FROM RESERVES \n",
    "JOIN BOATS ON RESERVES.BID = BOATS.BID\n",
    "GROUP BY RESERVES.BID \n",
    "\n",
    "\n",
    "'''\n",
    "result_df = pd.read_sql_query(query, conn)\n",
    "\n",
    "\n",
    "conn.close()\n",
    "\n",
    "print(result_df.to_string(index=True))"
   ]
  },
  {
   "cell_type": "markdown",
   "metadata": {},
   "source": [
    "Get the average deposit paid for each boat"
   ]
  },
  {
   "cell_type": "code",
   "execution_count": 10,
   "metadata": {},
   "outputs": [
    {
     "name": "stdout",
     "output_type": "stream",
     "text": [
      "   BID  AVG(Deposit)\n",
      "0  101          50.0\n",
      "1  104           0.0\n",
      "2  108           0.0\n",
      "3  109          40.0\n"
     ]
    }
   ],
   "source": [
    "conn = sqlite3.connect('sailing_club.db')\n",
    "cursor = conn.cursor()\n",
    "\n",
    "query = '''\n",
    "SELECT\n",
    "\n",
    "'''\n",
    "result_df = pd.read_sql_query(query, conn)\n",
    "\n",
    "\n",
    "conn.close()\n",
    "\n",
    "print(result_df.to_string(index=True))"
   ]
  },
  {
   "cell_type": "code",
   "execution_count": null,
   "metadata": {},
   "outputs": [],
   "source": [
    "conn = sqlite3.connect('sailing_club.db')\n",
    "cursor = conn.cursor()\n",
    "\n",
    "query = '''\n",
    "\n",
    "'''\n",
    "result_df = pd.read_sql_query(query, conn)\n",
    "\n",
    "\n",
    "conn.close()\n",
    "\n",
    "print(result_df.to_string(index=True))"
   ]
  },
  {
   "cell_type": "code",
   "execution_count": null,
   "metadata": {},
   "outputs": [],
   "source": [
    "conn = sqlite3.connect('sailing_club.db')\n",
    "cursor = conn.cursor()\n",
    "\n",
    "query = '''\n",
    "\n",
    "'''\n",
    "result_df = pd.read_sql_query(query, conn)\n",
    "\n",
    "\n",
    "conn.close()\n",
    "\n",
    "print(result_df.to_string(index=True))"
   ]
  },
  {
   "cell_type": "code",
   "execution_count": null,
   "metadata": {},
   "outputs": [],
   "source": [
    "conn = sqlite3.connect('sailing_club.db')\n",
    "cursor = conn.cursor()\n",
    "\n",
    "query = '''\n",
    "\n",
    "'''\n",
    "result_df = pd.read_sql_query(query, conn)\n",
    "\n",
    "\n",
    "conn.close()\n",
    "\n",
    "print(result_df.to_string(index=True))"
   ]
  },
  {
   "cell_type": "code",
   "execution_count": null,
   "metadata": {},
   "outputs": [],
   "source": [
    "conn = sqlite3.connect('sailing_club.db')\n",
    "cursor = conn.cursor()\n",
    "\n",
    "query = '''\n",
    "\n",
    "'''\n",
    "result_df = pd.read_sql_query(query, conn)\n",
    "\n",
    "\n",
    "conn.close()\n",
    "\n",
    "print(result_df.to_string(index=True))"
   ]
  },
  {
   "cell_type": "code",
   "execution_count": null,
   "metadata": {},
   "outputs": [],
   "source": [
    "conn = sqlite3.connect('sailing_club.db')\n",
    "cursor = conn.cursor()\n",
    "\n",
    "query = '''\n",
    "\n",
    "'''\n",
    "result_df = pd.read_sql_query(query, conn)\n",
    "\n",
    "\n",
    "conn.close()\n",
    "\n",
    "print(result_df.to_string(index=True))"
   ]
  },
  {
   "cell_type": "code",
   "execution_count": null,
   "metadata": {},
   "outputs": [],
   "source": [
    "conn = sqlite3.connect('sailing_club.db')\n",
    "cursor = conn.cursor()\n",
    "\n",
    "query = '''\n",
    "\n",
    "'''\n",
    "result_df = pd.read_sql_query(query, conn)\n",
    "\n",
    "\n",
    "conn.close()\n",
    "\n",
    "print(result_df.to_string(index=True))"
   ]
  },
  {
   "cell_type": "code",
   "execution_count": null,
   "metadata": {},
   "outputs": [],
   "source": [
    "conn = sqlite3.connect('sailing_club.db')\n",
    "cursor = conn.cursor()\n",
    "\n",
    "query = '''\n",
    "\n",
    "'''\n",
    "result_df = pd.read_sql_query(query, conn)\n",
    "\n",
    "\n",
    "conn.close()\n",
    "\n",
    "print(result_df.to_string(index=True))"
   ]
  },
  {
   "cell_type": "code",
   "execution_count": null,
   "metadata": {},
   "outputs": [],
   "source": [
    "conn = sqlite3.connect('sailing_club.db')\n",
    "cursor = conn.cursor()\n",
    "\n",
    "query = '''\n",
    "\n",
    "'''\n",
    "result_df = pd.read_sql_query(query, conn)\n",
    "\n",
    "\n",
    "conn.close()\n",
    "\n",
    "print(result_df.to_string(index=True))"
   ]
  }
 ],
 "metadata": {
  "kernelspec": {
   "display_name": "Python 3",
   "language": "python",
   "name": "python3"
  },
  "language_info": {
   "codemirror_mode": {
    "name": "ipython",
    "version": 3
   },
   "file_extension": ".py",
   "mimetype": "text/x-python",
   "name": "python",
   "nbconvert_exporter": "python",
   "pygments_lexer": "ipython3",
   "version": "3.10.11"
  }
 },
 "nbformat": 4,
 "nbformat_minor": 2
}
