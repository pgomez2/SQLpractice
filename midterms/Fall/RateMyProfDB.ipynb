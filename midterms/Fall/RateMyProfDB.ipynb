{
 "cells": [
  {
   "cell_type": "code",
   "execution_count": 2,
   "metadata": {},
   "outputs": [],
   "source": [
    "import sqlite3\n",
    "import pandas as pd \n"
   ]
  },
  {
   "cell_type": "code",
   "execution_count": 3,
   "metadata": {},
   "outputs": [],
   "source": [
    "# Connect to the database (it will create the database if it doesn't exist)\n",
    "conn = sqlite3.connect('RateMyProfDB.db')\n",
    "cursor = conn.cursor()\n",
    "\n",
    "# Create the Professor table\n",
    "cursor.execute('''\n",
    "CREATE TABLE IF NOT EXISTS Professor (\n",
    "    PID INTEGER PRIMARY KEY AUTOINCREMENT,\n",
    "    Pname TEXT NOT NULL,\n",
    "    Papers INTEGER,\n",
    "    Topic TEXT\n",
    ")\n",
    "''')\n",
    "\n",
    "# Create the Student table\n",
    "cursor.execute('''\n",
    "CREATE TABLE IF NOT EXISTS Student (\n",
    "    SID INTEGER PRIMARY KEY,\n",
    "    Sname TEXT NOT NULL,\n",
    "    Uni TEXT NOT NULL,\n",
    "    GPA REAL\n",
    ")\n",
    "''')\n",
    "\n",
    "# Create the Rating table\n",
    "cursor.execute('''\n",
    "CREATE TABLE IF NOT EXISTS Rating (\n",
    "    SID INTEGER,\n",
    "    PID INTEGER,\n",
    "    Score INTEGER NOT NULL CHECK (Score BETWEEN 0 AND 10),\n",
    "    Attended INTEGER NOT NULL,\n",
    "    PRIMARY KEY (SID, PID),\n",
    "    FOREIGN KEY (SID) REFERENCES Student(SID) ON DELETE CASCADE,\n",
    "    FOREIGN KEY (PID) REFERENCES Professor(PID) ON DELETE CASCADE\n",
    ")\n",
    "''')\n",
    "\n",
    "# Commit the changes and close the connection\n",
    "conn.commit()\n",
    "conn.close()\n"
   ]
  },
  {
   "cell_type": "markdown",
   "metadata": {},
   "source": [
    "1. Find the names of students with a GPA of at most 3.5 who are studying at Illionis Tech, along with the score and names of the professors these students rated."
   ]
  },
  {
   "cell_type": "code",
   "execution_count": 5,
   "metadata": {},
   "outputs": [
    {
     "name": "stdout",
     "output_type": "stream",
     "text": [
      "Empty DataFrame\n",
      "Columns: [Sname, Score, Pname]\n",
      "Index: []\n"
     ]
    }
   ],
   "source": [
    "conn = sqlite3.connect('RateMyProfDB.db')\n",
    "cursor = conn.cursor()\n",
    "\n",
    "query = '''\n",
    "SELECT Sname, Score, Pname\n",
    "FROM Rating\n",
    "JOIN Student ON Student.SID = Rating.SID\n",
    "JOIN Professor ON Professor.PID = Rating.PID \n",
    "WHERE Student.GPA <3.51 AND Student.Uni = 'Illinois Tech'\n",
    "'''\n",
    "result_df = pd.read_sql_query(query, conn)\n",
    "\n",
    "\n",
    "conn.close()\n",
    "\n",
    "print(result_df.to_string(index=True))"
   ]
  },
  {
   "cell_type": "code",
   "execution_count": null,
   "metadata": {},
   "outputs": [],
   "source": [
    "conn = sqlite3.connect('RateMyProfDB.db')\n",
    "cursor = conn.cursor()\n",
    "\n",
    "query = '''\n",
    "\n",
    "'''\n",
    "result_df = pd.read_sql_query(query, conn)\n",
    "\n",
    "\n",
    "conn.close()\n",
    "\n",
    "print(result_df.to_string(index=True))"
   ]
  },
  {
   "cell_type": "code",
   "execution_count": null,
   "metadata": {},
   "outputs": [],
   "source": [
    "conn = sqlite3.connect('RateMyProfDB.db')\n",
    "cursor = conn.cursor()\n",
    "\n",
    "query = '''\n",
    "\n",
    "'''\n",
    "result_df = pd.read_sql_query(query, conn)\n",
    "\n",
    "\n",
    "conn.close()\n",
    "\n",
    "print(result_df.to_string(index=True))"
   ]
  },
  {
   "cell_type": "code",
   "execution_count": null,
   "metadata": {},
   "outputs": [],
   "source": [
    "conn = sqlite3.connect('RateMyProfDB.db')\n",
    "cursor = conn.cursor()\n",
    "\n",
    "query = '''\n",
    "\n",
    "'''\n",
    "result_df = pd.read_sql_query(query, conn)\n",
    "\n",
    "\n",
    "conn.close()\n",
    "\n",
    "print(result_df.to_string(index=True))"
   ]
  }
 ],
 "metadata": {
  "kernelspec": {
   "display_name": "Python 3",
   "language": "python",
   "name": "python3"
  },
  "language_info": {
   "codemirror_mode": {
    "name": "ipython",
    "version": 3
   },
   "file_extension": ".py",
   "mimetype": "text/x-python",
   "name": "python",
   "nbconvert_exporter": "python",
   "pygments_lexer": "ipython3",
   "version": "3.10.11"
  }
 },
 "nbformat": 4,
 "nbformat_minor": 2
}
