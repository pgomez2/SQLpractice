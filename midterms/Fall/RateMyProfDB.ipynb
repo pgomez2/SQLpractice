{
 "cells": [
  {
   "cell_type": "code",
   "execution_count": 6,
   "metadata": {},
   "outputs": [],
   "source": [
    "import sqlite3\n",
    "import pandas as pd \n"
   ]
  },
  {
   "cell_type": "code",
   "execution_count": 3,
   "metadata": {},
   "outputs": [],
   "source": [
    "# Connect to the database (it will create the database if it doesn't exist)\n",
    "conn = sqlite3.connect('RateMyProfDB.db')\n",
    "cursor = conn.cursor()\n",
    "\n",
    "# Create the Professor table\n",
    "cursor.execute('''\n",
    "CREATE TABLE IF NOT EXISTS Professor (\n",
    "    PID INTEGER PRIMARY KEY AUTOINCREMENT,\n",
    "    Pname TEXT NOT NULL,\n",
    "    Papers INTEGER,\n",
    "    Topic TEXT\n",
    ")\n",
    "''')\n",
    "\n",
    "# Create the Student table\n",
    "cursor.execute('''\n",
    "CREATE TABLE IF NOT EXISTS Student (\n",
    "    SID INTEGER PRIMARY KEY,\n",
    "    Sname TEXT NOT NULL,\n",
    "    Uni TEXT NOT NULL,\n",
    "    GPA REAL\n",
    ")\n",
    "''')\n",
    "\n",
    "# Create the Rating table\n",
    "cursor.execute('''\n",
    "CREATE TABLE IF NOT EXISTS Rating (\n",
    "    SID INTEGER,\n",
    "    PID INTEGER,\n",
    "    Score INTEGER NOT NULL CHECK (Score BETWEEN 0 AND 10),\n",
    "    Attended INTEGER NOT NULL,\n",
    "    PRIMARY KEY (SID, PID),\n",
    "    FOREIGN KEY (SID) REFERENCES Student(SID) ON DELETE CASCADE,\n",
    "    FOREIGN KEY (PID) REFERENCES Professor(PID) ON DELETE CASCADE\n",
    ")\n",
    "''')\n",
    "\n",
    "# Commit the changes and close the connection\n",
    "conn.commit()\n",
    "conn.close()\n"
   ]
  },
  {
   "cell_type": "code",
   "execution_count": 7,
   "metadata": {},
   "outputs": [],
   "source": [
    "\n",
    "\n",
    "# Connect to the database (it will create the database if it doesn't exist)\n",
    "conn = sqlite3.connect('RateMyProfDB.db')\n",
    "cursor = conn.cursor()\n",
    "\n",
    "# Insert values into the Professor table\n",
    "professors = [\n",
    "    (109, 'Steven', 10, 'Java'),\n",
    "    (110, 'Francis', 50, 'Databases'),\n",
    "    (111, 'Daniel', 40, 'Java'),\n",
    "    (112, 'Joy', 20, 'Java')\n",
    "]\n",
    "cursor.executemany('INSERT INTO Professor (PID, Pname, Papers, Topic) VALUES (?, ?, ?, ?)', professors)\n",
    "\n",
    "# Insert values into the Student table\n",
    "students = [\n",
    "    (23, 'Michelle', 'Illinois Tech', 3.05),\n",
    "    (25, 'Tomas', 'UChi', 2.71),\n",
    "    (27, 'Biden', 'Illinois Tech', 3.66),\n",
    "    (33, 'John', 'UIC', 4.80)\n",
    "]\n",
    "cursor.executemany('INSERT INTO Student (SID, Sname, Uni, GPA) VALUES (?, ?, ?, ?)', students)\n",
    "\n",
    "# Insert values into the Rating table\n",
    "ratings = [\n",
    "    (23, 109, 6, 60),\n",
    "    (23, 110, 10, 70),\n",
    "    (23, 111, 8, 40),\n",
    "    (27, 111, 9, 100),\n",
    "    (27, 109, 4, 20),\n",
    "    (33, 109, 5, 80),\n",
    "    (33, 112, 1, 4)\n",
    "]\n",
    "cursor.executemany('INSERT INTO Rating (SID, PID, Score, Attended) VALUES (?, ?, ?, ?)', ratings)\n",
    "\n",
    "# Commit the changes and close the connection\n",
    "conn.commit()\n",
    "conn.close()\n"
   ]
  },
  {
   "cell_type": "markdown",
   "metadata": {},
   "source": [
    "1. Find the names of students with a GPA of at most 3.5 who are studying at Illionis Tech, along with the score and names of the professors these students rated."
   ]
  },
  {
   "cell_type": "code",
   "execution_count": 8,
   "metadata": {},
   "outputs": [
    {
     "name": "stdout",
     "output_type": "stream",
     "text": [
      "      Sname  Score    Pname\n",
      "0  Michelle      6   Steven\n",
      "1  Michelle     10  Francis\n",
      "2  Michelle      8   Daniel\n"
     ]
    }
   ],
   "source": [
    "conn = sqlite3.connect('RateMyProfDB.db')\n",
    "cursor = conn.cursor()\n",
    "\n",
    "query = '''\n",
    "SELECT Sname, Score, Pname\n",
    "FROM Rating\n",
    "JOIN Student ON Student.SID = Rating.SID\n",
    "JOIN Professor ON Professor.PID = Rating.PID \n",
    "WHERE Student.GPA <3.51 AND Student.Uni = 'Illinois Tech'\n",
    "'''\n",
    "result_df = pd.read_sql_query(query, conn)\n",
    "\n",
    "\n",
    "conn.close()\n",
    "\n",
    "print(result_df.to_string(index=True))"
   ]
  },
  {
   "cell_type": "markdown",
   "metadata": {},
   "source": [
    "2. Get names of studens having GPA less than or equal to any student attending Illinois Tech"
   ]
  },
  {
   "cell_type": "code",
   "execution_count": 11,
   "metadata": {},
   "outputs": [
    {
     "name": "stdout",
     "output_type": "stream",
     "text": [
      "   Sname\n",
      "0  Tomas\n"
     ]
    }
   ],
   "source": [
    "conn = sqlite3.connect('RateMyProfDB.db')\n",
    "cursor = conn.cursor()\n",
    "\n",
    "query = '''\n",
    "SELECT Sname\n",
    "FROM Student\n",
    "WHERE Uni != 'Illinois Tech' \n",
    "AND GPA <= (SELECT MAX(Student.GPA) FROM Student WHERE Uni = 'Illinois Tech')\n",
    "'''\n",
    "result_df = pd.read_sql_query(query, conn)\n",
    "\n",
    "\n",
    "conn.close()\n",
    "\n",
    "print(result_df.to_string(index=True))"
   ]
  },
  {
   "cell_type": "markdown",
   "metadata": {},
   "source": [
    "3. Find all PIDs that have not been rated"
   ]
  },
  {
   "cell_type": "code",
   "execution_count": 12,
   "metadata": {},
   "outputs": [
    {
     "name": "stdout",
     "output_type": "stream",
     "text": [
      "Empty DataFrame\n",
      "Columns: [PID]\n",
      "Index: []\n"
     ]
    }
   ],
   "source": [
    "conn = sqlite3.connect('RateMyProfDB.db')\n",
    "cursor = conn.cursor()\n",
    "\n",
    "query = '''\n",
    "SELECT PID\n",
    "FROM Professor\n",
    "WHERE PID NOT IN (SELECT DISTINCT(PID) FROM Rating) \n",
    "'''\n",
    "result_df = pd.read_sql_query(query, conn)\n",
    "\n",
    "\n",
    "conn.close()\n",
    "\n",
    "print(result_df.to_string(index=True))"
   ]
  },
  {
   "cell_type": "markdown",
   "metadata": {},
   "source": [
    "4. Write a relational algebra statement to get the Professor name and average score given to each professor, ordered from the highest to the lowest score."
   ]
  },
  {
   "cell_type": "code",
   "execution_count": 17,
   "metadata": {},
   "outputs": [
    {
     "name": "stdout",
     "output_type": "stream",
     "text": [
      "     Pname  AVG(Score)\n",
      "0      Joy         1.0\n",
      "1   Steven         5.0\n",
      "2   Daniel         8.5\n",
      "3  Francis        10.0\n"
     ]
    }
   ],
   "source": [
    "conn = sqlite3.connect('RateMyProfDB.db')\n",
    "cursor = conn.cursor()\n",
    "\n",
    "query = '''\n",
    "SELECT Pname, AVG(Score) \n",
    "FROM Rating\n",
    "JOIN Professor ON Professor.PID = Rating.PID\n",
    "GROUP BY rating.PID\n",
    "ORDER BY Score\n",
    "'''\n",
    "result_df = pd.read_sql_query(query, conn)\n",
    "\n",
    "\n",
    "conn.close()\n",
    "\n",
    "print(result_df.to_string(index=True))"
   ]
  },
  {
   "cell_type": "markdown",
   "metadata": {},
   "source": [
    "5. Write the SQL that would create the 'Rating' table shown in the graphic on page 1"
   ]
  },
  {
   "cell_type": "code",
   "execution_count": null,
   "metadata": {},
   "outputs": [],
   "source": [
    "conn = sqlite3.connect('RateMyProfDB.db')\n",
    "cursor = conn.cursor()\n",
    "\n",
    "query = '''\n",
    "\n",
    "CREATE TABLE IF NOT EXISTS Rating (\n",
    "    SID INTEGER,\n",
    "    PID INTEGER,\n",
    "    Score INTEGER NOT NULL CHECK (Score BETWEEN 0 AND 10),\n",
    "    Attended INTEGER NOT NULL,\n",
    "    PRIMARY KEY (SID, PID),\n",
    "    FOREIGN KEY (SID) REFERENCES Student(SID) ON DELETE CASCADE,\n",
    "    FOREIGN KEY (PID) REFERENCES Professor(PID) ON DELETE CASCADE\n",
    ")\n",
    "\n",
    "'''\n",
    "result_df = pd.read_sql_query(query, conn)\n",
    "\n",
    "\n",
    "conn.close()\n",
    "\n",
    "print(result_df.to_string(index=True))"
   ]
  },
  {
   "cell_type": "markdown",
   "metadata": {},
   "source": [
    "6. Get names of students having a GPA less than or equal to a student attending Illinois Tech."
   ]
  },
  {
   "cell_type": "code",
   "execution_count": null,
   "metadata": {},
   "outputs": [],
   "source": [
    "conn = sqlite3.connect('RateMyProfDB.db')\n",
    "cursor = conn.cursor()\n",
    "\n",
    "query = '''\n",
    "SELECT Sname\n",
    "FROM Student\n",
    "WHERE Uni != 'Illinois Tech' \n",
    "AND GPA <= (SELECT MAX(Student.GPA) FROM Student WHERE Uni = 'Illinois Tech')\n",
    "'''\n",
    "result_df = pd.read_sql_query(query, conn)\n",
    "\n",
    "\n",
    "conn.close()\n",
    "\n",
    "print(result_df.to_string(index=True))"
   ]
  },
  {
   "cell_type": "markdown",
   "metadata": {},
   "source": [
    "7. Find names of professors that have been rated only once and give the names in descending order."
   ]
  },
  {
   "cell_type": "code",
   "execution_count": null,
   "metadata": {},
   "outputs": [],
   "source": [
    "conn = sqlite3.connect('RateMyProfDB.db')\n",
    "cursor = conn.cursor()\n",
    "\n",
    "query = '''\n",
    "\n",
    "'''\n",
    "result_df = pd.read_sql_query(query, conn)\n",
    "\n",
    "\n",
    "conn.close()\n",
    "\n",
    "print(result_df.to_string(index=True))"
   ]
  },
  {
   "cell_type": "markdown",
   "metadata": {},
   "source": [
    "8. Delete professors who have number of Papers less than the average score of all professors."
   ]
  },
  {
   "cell_type": "code",
   "execution_count": null,
   "metadata": {},
   "outputs": [],
   "source": [
    "conn = sqlite3.connect('RateMyProfDB.db')\n",
    "cursor = conn.cursor()\n",
    "\n",
    "query = '''\n",
    "\n",
    "'''\n",
    "result_df = pd.read_sql_query(query, conn)\n",
    "\n",
    "\n",
    "conn.close()\n",
    "\n",
    "print(result_df.to_string(index=True))"
   ]
  }
 ],
 "metadata": {
  "kernelspec": {
   "display_name": "Python 3",
   "language": "python",
   "name": "python3"
  },
  "language_info": {
   "codemirror_mode": {
    "name": "ipython",
    "version": 3
   },
   "file_extension": ".py",
   "mimetype": "text/x-python",
   "name": "python",
   "nbconvert_exporter": "python",
   "pygments_lexer": "ipython3",
   "version": "3.10.11"
  }
 },
 "nbformat": 4,
 "nbformat_minor": 2
}
