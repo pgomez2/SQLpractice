{
 "cells": [
  {
   "cell_type": "markdown",
   "metadata": {},
   "source": [
    "This is the exam, first create the database in python"
   ]
  },
  {
   "cell_type": "code",
   "execution_count": 2,
   "metadata": {},
   "outputs": [],
   "source": [
    "import sqlite3\n",
    "import pandas as pd"
   ]
  },
  {
   "cell_type": "code",
   "execution_count": 5,
   "metadata": {},
   "outputs": [
    {
     "ename": "OperationalError",
     "evalue": "table Book already exists",
     "output_type": "error",
     "traceback": [
      "\u001b[1;31m---------------------------------------------------------------------------\u001b[0m",
      "\u001b[1;31mOperationalError\u001b[0m                          Traceback (most recent call last)",
      "Cell \u001b[1;32mIn[5], line 8\u001b[0m\n\u001b[0;32m      5\u001b[0m cursor \u001b[38;5;241m=\u001b[39m conn\u001b[38;5;241m.\u001b[39mcursor()\n\u001b[0;32m      7\u001b[0m \u001b[38;5;66;03m# Create the Book table\u001b[39;00m\n\u001b[1;32m----> 8\u001b[0m \u001b[43mcursor\u001b[49m\u001b[38;5;241;43m.\u001b[39;49m\u001b[43mexecute\u001b[49m\u001b[43m(\u001b[49m\u001b[38;5;124;43m'''\u001b[39;49m\n\u001b[0;32m      9\u001b[0m \u001b[38;5;124;43mCREATE TABLE Book (\u001b[39;49m\n\u001b[0;32m     10\u001b[0m \u001b[38;5;124;43m    BookID INTEGER PRIMARY KEY,\u001b[39;49m\n\u001b[0;32m     11\u001b[0m \u001b[38;5;124;43m    Title TEXT,\u001b[39;49m\n\u001b[0;32m     12\u001b[0m \u001b[38;5;124;43m    Author TEXT,\u001b[39;49m\n\u001b[0;32m     13\u001b[0m \u001b[38;5;124;43m    Publisher TEXT,\u001b[39;49m\n\u001b[0;32m     14\u001b[0m \u001b[38;5;124;43m    Year INTEGER,\u001b[39;49m\n\u001b[0;32m     15\u001b[0m \u001b[38;5;124;43m    Price REAL\u001b[39;49m\n\u001b[0;32m     16\u001b[0m \u001b[38;5;124;43m)\u001b[39;49m\n\u001b[0;32m     17\u001b[0m \u001b[38;5;124;43m'''\u001b[39;49m\u001b[43m)\u001b[49m\n\u001b[0;32m     19\u001b[0m \u001b[38;5;66;03m# Create the Sold table\u001b[39;00m\n\u001b[0;32m     20\u001b[0m cursor\u001b[38;5;241m.\u001b[39mexecute(\u001b[38;5;124m'''\u001b[39m\n\u001b[0;32m     21\u001b[0m \u001b[38;5;124mCREATE TABLE Sold (\u001b[39m\n\u001b[0;32m     22\u001b[0m \u001b[38;5;124m    Name TEXT,\u001b[39m\n\u001b[1;32m   (...)\u001b[0m\n\u001b[0;32m     27\u001b[0m \u001b[38;5;124m)\u001b[39m\n\u001b[0;32m     28\u001b[0m \u001b[38;5;124m'''\u001b[39m)\n",
      "\u001b[1;31mOperationalError\u001b[0m: table Book already exists"
     ]
    }
   ],
   "source": [
    "import sqlite3\n",
    "\n",
    "# Connect to the SQLite database (or create it if it doesn't exist)\n",
    "conn = sqlite3.connect('BookStoreDB.db')\n",
    "cursor = conn.cursor()\n",
    "\n",
    "# Create the Book table\n",
    "cursor.execute('''\n",
    "CREATE TABLE Book (\n",
    "    BookID INTEGER PRIMARY KEY,\n",
    "    Title TEXT,\n",
    "    Author TEXT,\n",
    "    Publisher TEXT,\n",
    "    Year INTEGER,\n",
    "    Price REAL\n",
    ")\n",
    "''')\n",
    "\n",
    "# Create the Sold table\n",
    "cursor.execute('''\n",
    "CREATE TABLE Sold (\n",
    "    Name TEXT,\n",
    "    BookID INTEGER,\n",
    "    Quantity INTEGER,\n",
    "    PRIMARY KEY (Name, BookID),\n",
    "    FOREIGN KEY (BookID) REFERENCES Book(BookID)\n",
    ")\n",
    "''')\n",
    "\n",
    "# Create the Bookstore table\n",
    "cursor.execute('''\n",
    "CREATE TABLE Bookstore (\n",
    "    Name TEXT PRIMARY KEY,\n",
    "    Address TEXT,\n",
    "    City TEXT\n",
    ")\n",
    "''')\n",
    "\n",
    "# Insert data into the Book table\n",
    "books = [\n",
    "    (1, 'The Great Gatsby', 'F. Scott Fitzgerald', 'Scribner', 2001, 10.99),\n",
    "    (2, 'To Kill a Mockingbird', 'Harper Lee', 'Harper & Brothers', 2009, 12.50),\n",
    "    (3, 'The Baby Boomers', 'George Orwell', 'Secker & Warburg', 2020, 8.75),\n",
    "    (4, 'Pride and Prejudice', 'Jane Austen', 'T. Egerton', 2010, 9.99),\n",
    "    (5, 'Harry Potter and the Sorcerer\\'s Stone', 'J.K. Rowling', 'Bloomsbury', 1997, 14.95)\n",
    "]\n",
    "cursor.executemany('INSERT INTO Book VALUES (?, ?, ?, ?, ?, ?)', books)\n",
    "\n",
    "# Insert data into the Sold table\n",
    "sold = [\n",
    "    ('Book Haven', 1, 500),\n",
    "    ('Reading Nook', 2, 300),\n",
    "    ('Novel Corner', 3, 250),\n",
    "    ('Book Haven', 4, 870),\n",
    "    ('Reading Nook', 1, 200),\n",
    "    ('Novel Corner', 5, 630)\n",
    "]\n",
    "cursor.executemany('INSERT INTO Sold VALUES (?, ?, ?)', sold)\n",
    "\n",
    "# Insert data into the Bookstore table\n",
    "bookstores = [\n",
    "    ('Book Haven', '123 Main St', 'New York'),\n",
    "    ('Reading Nook', '456 Oak Ave', 'Los Angeles'),\n",
    "    ('Novel Corner', '789 Elm St', 'Chicago')\n",
    "]\n",
    "cursor.executemany('INSERT INTO Bookstore VALUES (?, ?, ?)', bookstores)\n",
    "\n",
    "# Commit the changes and close the connection\n",
    "conn.commit()\n",
    "conn.close()\n",
    "\n"
   ]
  },
  {
   "cell_type": "code",
   "execution_count": null,
   "metadata": {},
   "outputs": [],
   "source": [
    "SELECT DISTINCT Bookstore.Name\n",
    "FROM Bookstore\n",
    "JOIN Sold ON Bookstore.Name = Sold.Name\n",
    "JOIN Book ON Sold.BookID = Book.BookID\n",
    "WHERE Bookstore.City = 'Chicago'\n",
    "  AND Book.Year BETWEEN 2000 AND 2020;\n"
   ]
  },
  {
   "cell_type": "markdown",
   "metadata": {},
   "source": [
    "Find the names of the bookstores that are in Chicago and have sold some books published between the years 2000 and 2020"
   ]
  },
  {
   "cell_type": "code",
   "execution_count": 15,
   "metadata": {},
   "outputs": [
    {
     "name": "stdout",
     "output_type": "stream",
     "text": [
      "           Name\n",
      "0  Novel Corner\n"
     ]
    }
   ],
   "source": [
    "conn = sqlite3.connect('BookStoreDB.db')\n",
    "cursor = conn.cursor()\n",
    "\n",
    "query = '''\n",
    "SELECT DISTINCT Bookstore.Name\n",
    "FROM Bookstore\n",
    "JOIN Sold ON Bookstore.Name = Sold.Name\n",
    "JOIN Book ON Sold.BookID = Book.BookID\n",
    "WHERE Bookstore.City = 'Chicago'\n",
    "  AND Book.Year BETWEEN 2000 AND 2020;\n",
    "'''\n",
    "result_df = pd.read_sql_query(query, conn)\n",
    "\n",
    "\n",
    "conn.close()\n",
    "\n",
    "print(result_df.to_string(index=True))"
   ]
  },
  {
   "cell_type": "markdown",
   "metadata": {},
   "source": [
    "2. Find the names of the bookstores that have sold every book that is sold by the bookstore named \"Book Haven\""
   ]
  },
  {
   "cell_type": "code",
   "execution_count": 23,
   "metadata": {},
   "outputs": [
    {
     "name": "stdout",
     "output_type": "stream",
     "text": [
      "           Name\n",
      "0    Book Haven\n",
      "1  Reading Nook\n"
     ]
    }
   ],
   "source": [
    "conn = sqlite3.connect('BookStoreDB.db')\n",
    "cursor = conn.cursor()\n",
    "\n",
    "query = '''\n",
    "SELECT DISTINCT(Sold.Name)\n",
    "FROM Sold \n",
    "WHERE Sold.BookID IN\n",
    "    (SELECT Book.BookID\n",
    "    FROM Book\n",
    "    JOIN Sold ON Sold.BookID = Book.BookID \n",
    "    WHERE Name = 'Book Haven')\n",
    "      \n",
    "'''\n",
    "result_df = pd.read_sql_query(query, conn)\n",
    "\n",
    "\n",
    "conn.close()\n",
    "\n",
    "print(result_df.to_string(index=True))"
   ]
  },
  {
   "cell_type": "markdown",
   "metadata": {},
   "source": [
    "3. Find the names of the bookstores that have sold at most 500 different books (of any quantity) published after the year 2000"
   ]
  },
  {
   "cell_type": "code",
   "execution_count": 25,
   "metadata": {},
   "outputs": [
    {
     "name": "stdout",
     "output_type": "stream",
     "text": [
      "         Name\n",
      "0  Book Haven\n"
     ]
    }
   ],
   "source": [
    "conn = sqlite3.connect('BookStoreDB.db')\n",
    "cursor = conn.cursor()\n",
    "\n",
    "query = '''\n",
    "SELECT DISTINCT(Name)\n",
    "FROM Book\n",
    "JOIN Sold ON Sold.BookID = Book.BookID\n",
    "WHERE Quantity > 499 AND Year > 2000 \n",
    "      \n",
    "'''\n",
    "result_df = pd.read_sql_query(query, conn)\n",
    "\n",
    "\n",
    "conn.close()\n",
    "\n",
    "print(result_df.to_string(index=True))"
   ]
  },
  {
   "cell_type": "markdown",
   "metadata": {},
   "source": [
    "4. Find the names of the New York bookstores that have sold more books than the bookstore named \"Novel Corner\"."
   ]
  },
  {
   "cell_type": "code",
   "execution_count": 27,
   "metadata": {},
   "outputs": [
    {
     "name": "stdout",
     "output_type": "stream",
     "text": [
      "         Name\n",
      "0  Book Haven\n"
     ]
    }
   ],
   "source": [
    "conn = sqlite3.connect('BookStoreDB.db')\n",
    "cursor = conn.cursor()\n",
    "\n",
    "query = '''\n",
    "\n",
    "SELECT Sold.Name \n",
    "FROM Sold \n",
    "JOIN Bookstore ON Bookstore.Name = Sold.Name \n",
    "WHERE City = 'New York' AND Quantity < (SELECT SUM(Quantity) FROM Sold WHERE Name = 'Novel Corner')\n",
    "GROUP BY Sold.Name\n",
    "      \n",
    "'''\n",
    "result_df = pd.read_sql_query(query, conn)\n",
    "\n",
    "\n",
    "conn.close()\n",
    "\n",
    "print(result_df.to_string(index=True))"
   ]
  },
  {
   "cell_type": "markdown",
   "metadata": {},
   "source": []
  }
 ],
 "metadata": {
  "kernelspec": {
   "display_name": "Python 3",
   "language": "python",
   "name": "python3"
  },
  "language_info": {
   "codemirror_mode": {
    "name": "ipython",
    "version": 3
   },
   "file_extension": ".py",
   "mimetype": "text/x-python",
   "name": "python",
   "nbconvert_exporter": "python",
   "pygments_lexer": "ipython3",
   "version": "3.10.11"
  }
 },
 "nbformat": 4,
 "nbformat_minor": 2
}
