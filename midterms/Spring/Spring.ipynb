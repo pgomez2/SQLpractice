{
 "cells": [
  {
   "cell_type": "markdown",
   "metadata": {},
   "source": [
    "This is the exam, first create the database in python"
   ]
  },
  {
   "cell_type": "code",
   "execution_count": 1,
   "metadata": {},
   "outputs": [],
   "source": [
    "import sqlite3"
   ]
  },
  {
   "cell_type": "code",
   "execution_count": 2,
   "metadata": {},
   "outputs": [
    {
     "ename": "SyntaxError",
     "evalue": "incomplete input (1992808379.py, line 72)",
     "output_type": "error",
     "traceback": [
      "\u001b[1;36m  Cell \u001b[1;32mIn[2], line 72\u001b[1;36m\u001b[0m\n\u001b[1;33m    ''')\u001b[0m\n\u001b[1;37m    ^\u001b[0m\n\u001b[1;31mSyntaxError\u001b[0m\u001b[1;31m:\u001b[0m incomplete input\n"
     ]
    }
   ],
   "source": [
    "import sqlite3\n",
    "\n",
    "# Connect to the SQLite database (or create it if it doesn't exist)\n",
    "conn = sqlite3.connect('/mnt/data/BookStoreDB.db')\n",
    "cursor = conn.cursor()\n",
    "\n",
    "# Create the Book table\n",
    "cursor.execute('''\n",
    "CREATE TABLE Book (\n",
    "    BookID INTEGER PRIMARY KEY,\n",
    "    Title TEXT,\n",
    "    Author TEXT,\n",
    "    Publisher TEXT,\n",
    "    Year INTEGER,\n",
    "    Price REAL\n",
    ")\n",
    "''')\n",
    "\n",
    "# Create the Sold table\n",
    "cursor.execute('''\n",
    "CREATE TABLE Sold (\n",
    "    Name TEXT,\n",
    "    BookID INTEGER,\n",
    "    Quantity INTEGER,\n",
    "    PRIMARY KEY (Name, BookID),\n",
    "    FOREIGN KEY (BookID) REFERENCES Book(BookID)\n",
    ")\n",
    "''')\n",
    "\n",
    "# Create the Bookstore table\n",
    "cursor.execute('''\n",
    "CREATE TABLE Bookstore (\n",
    "    Name TEXT PRIMARY KEY,\n",
    "    Address TEXT,\n",
    "    City TEXT\n",
    ")\n",
    "''')\n",
    "\n",
    "# Insert data into the Book table\n",
    "books = [\n",
    "    (1, 'The Great Gatsby', 'F. Scott Fitzgerald', 'Scribner', 2001, 10.99),\n",
    "    (2, 'To Kill a Mockingbird', 'Harper Lee', 'Harper & Brothers', 2009, 12.50),\n",
    "    (3, 'The Baby Boomers', 'George Orwell', 'Secker & Warburg', 2020, 8.75),\n",
    "    (4, 'Pride and Prejudice', 'Jane Austen', 'T. Egerton', 2010, 9.99),\n",
    "    (5, 'Harry Potter and the Sorcerer\\'s Stone', 'J.K. Rowling', 'Bloomsbury', 1997, 14.95)\n",
    "]\n",
    "cursor.executemany('INSERT INTO Book VALUES (?, ?, ?, ?, ?, ?)', books)\n",
    "\n",
    "# Insert data into the Sold table\n",
    "sold = [\n",
    "    ('Book Haven', 1, 500),\n",
    "    ('Reading Nook', 2, 300),\n",
    "    ('Novel Corner', 3, 250),\n",
    "    ('Book Haven', 4, 870),\n",
    "    ('Reading Nook', 1, 200),\n",
    "    ('Novel Corner', 5, 630)\n",
    "]\n",
    "cursor.executemany('INSERT INTO Sold VALUES (?, ?, ?)', sold)\n",
    "\n",
    "# Insert data into the Bookstore table\n",
    "bookstores = [\n",
    "    ('Book Haven', '123 Main St', 'New York'),\n",
    "    ('Reading Nook', '456 Oak Ave', 'Los Angeles'),\n",
    "    ('Novel Corner', '789 Elm St', 'Chicago')\n",
    "]\n",
    "cursor.executemany('INSERT INTO Bookstore VALUES (?, ?, ?)', bookstores)\n",
    "\n",
    "# Commit the changes and close the connection\n",
    "conn.commit()\n",
    "conn.close()\n",
    "\n"
   ]
  },
  {
   "cell_type": "markdown",
   "metadata": {},
   "source": []
  }
 ],
 "metadata": {
  "kernelspec": {
   "display_name": "Python 3",
   "language": "python",
   "name": "python3"
  },
  "language_info": {
   "codemirror_mode": {
    "name": "ipython",
    "version": 3
   },
   "file_extension": ".py",
   "mimetype": "text/x-python",
   "name": "python",
   "nbconvert_exporter": "python",
   "pygments_lexer": "ipython3",
   "version": "3.10.11"
  }
 },
 "nbformat": 4,
 "nbformat_minor": 2
}
